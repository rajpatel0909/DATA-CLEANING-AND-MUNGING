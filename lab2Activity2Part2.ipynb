{
 "cells": [
  {
   "cell_type": "markdown",
   "metadata": {},
   "source": [
    "Reading teams and players file in teams and players df"
   ]
  },
  {
   "cell_type": "code",
   "execution_count": 1,
   "metadata": {
    "collapsed": true
   },
   "outputs": [],
   "source": [
    "teams <- read.csv(file=\"teams.csv\",head=TRUE,sep=\",\")"
   ]
  },
  {
   "cell_type": "code",
   "execution_count": 2,
   "metadata": {
    "collapsed": true
   },
   "outputs": [],
   "source": [
    "players <- read.csv(file=\"players.csv\",head=TRUE,sep=\",\")"
   ]
  },
  {
   "cell_type": "code",
   "execution_count": 3,
   "metadata": {
    "collapsed": false
   },
   "outputs": [
    {
     "data": {
      "text/html": [
       "<table>\n",
       "<thead><tr><th scope=col>X</th><th scope=col>player</th><th scope=col>overall_rating</th><th scope=col>gk_rating</th><th scope=col>leagues</th><th scope=col>appearances</th><th scope=col>names</th></tr></thead>\n",
       "<tbody>\n",
       "\t<tr><td> 1                      </td><td>2625                    </td><td>60                      </td><td>153                     </td><td>1                       </td><td> 86                     </td><td>Patryk Rachwal,18       </td></tr>\n",
       "\t<tr><td> 2                      </td><td>2752                    </td><td>72                      </td><td> 53                     </td><td>1                       </td><td> 81                     </td><td>Diego Mainz             </td></tr>\n",
       "\t<tr><td> 3                      </td><td>2768                    </td><td>65                      </td><td>128                     </td><td>1                       </td><td> 71                     </td><td>Jose Dorado             </td></tr>\n",
       "\t<tr><td> 4                      </td><td>2770                    </td><td>73                      </td><td>148                     </td><td>2                       </td><td>  8                     </td><td>Ignacio Gonzalez        </td></tr>\n",
       "\t<tr><td> 5                      </td><td>2790                    </td><td>73                      </td><td>144                     </td><td>1                       </td><td> 50                     </td><td>Alberto Rey             </td></tr>\n",
       "\t<tr><td> 6                      </td><td>2796                    </td><td>69                      </td><td>340                     </td><td>1                       </td><td>  1                     </td><td>Javier Jimenez          </td></tr>\n",
       "\t<tr><td> 7                      </td><td>2802                    </td><td>79                      </td><td>146                     </td><td>2                       </td><td>142                     </td><td>Pablo Hernandez         </td></tr>\n",
       "\t<tr><td> 8                      </td><td>2805                    </td><td>60                      </td><td>141                     </td><td>1                       </td><td>126                     </td><td>Ruben Perez             </td></tr>\n",
       "\t<tr><td> 9                      </td><td>2857                    </td><td>72                      </td><td>143                     </td><td>1                       </td><td>  3                     </td><td>Ivan Perez              </td></tr>\n",
       "\t<tr><td>10                      </td><td>2862                    </td><td>76                      </td><td>146                     </td><td>1                       </td><td> 13                     </td><td>Vicente Sanchez         </td></tr>\n",
       "\t<tr><td>11                      </td><td>2907                    </td><td>63                      </td><td>135                     </td><td>1                       </td><td>  3                     </td><td>Gregory Lacombe         </td></tr>\n",
       "\t<tr><td>12                      </td><td>2973                    </td><td>67                      </td><td>147                     </td><td>1                       </td><td> 11                     </td><td>Ugur Inceman            </td></tr>\n",
       "\t<tr><td>13                      </td><td>2977                    </td><td>82                      </td><td>104                     </td><td>1                       </td><td>  3                     </td><td>David Rivas Rodriguez   </td></tr>\n",
       "\t<tr><td>14                      </td><td>2983                    </td><td>68                      </td><td>139                     </td><td>1                       </td><td> 70                     </td><td>Jorge Molina            </td></tr>\n",
       "\t<tr><td>15                      </td><td>2984                    </td><td>75                      </td><td>364                     </td><td>1                       </td><td> 19                     </td><td>Sergio Aragones         </td></tr>\n",
       "\t<tr><td>16                      </td><td>3140                    </td><td>67                      </td><td>136                     </td><td>1                       </td><td> 35                     </td><td>Alexandre Hauw          </td></tr>\n",
       "\t<tr><td>17                      </td><td>3204                    </td><td>78                      </td><td>156                     </td><td>1                       </td><td> 20                     </td><td>Marat Izmailov          </td></tr>\n",
       "\t<tr><td>18                      </td><td>3263                    </td><td>67                      </td><td>115                     </td><td>1                       </td><td> 11                     </td><td>Kelly Berville          </td></tr>\n",
       "\t<tr><td>19                      </td><td>3264                    </td><td>62                      </td><td> 98                     </td><td>1                       </td><td>  1                     </td><td>Abdelmalek Cherrad      </td></tr>\n",
       "\t<tr><td>20                      </td><td>3316                    </td><td>70                      </td><td>108                     </td><td>1                       </td><td>  3                     </td><td>Oscar Sanchez           </td></tr>\n",
       "\t<tr><td>21                      </td><td>3329                    </td><td>62                      </td><td>130                     </td><td>1                       </td><td> 55                     </td><td>Vincent Euvrard         </td></tr>\n",
       "\t<tr><td>22                      </td><td>3377                    </td><td>59                      </td><td>138                     </td><td>1                       </td><td>  1                     </td><td>Luca Belingheri         </td></tr>\n",
       "\t<tr><td>23                      </td><td>3441                    </td><td>66                      </td><td>138                     </td><td>1                       </td><td> 63                     </td><td>Aleksander Radosavljevic</td></tr>\n",
       "\t<tr><td>24                      </td><td>3512                    </td><td>75                      </td><td>143                     </td><td>1                       </td><td>  4                     </td><td>Peter Halmosi           </td></tr>\n",
       "\t<tr><td>25                      </td><td>3517                    </td><td>79                      </td><td>149                     </td><td>1                       </td><td> 17                     </td><td>Alexandr Kerzhakov      </td></tr>\n",
       "\t<tr><td>26                      </td><td>3520                    </td><td>85                      </td><td>159                     </td><td>1                       </td><td> 63                     </td><td>Andrey Arshavin         </td></tr>\n",
       "\t<tr><td>27                      </td><td>4747                    </td><td>73                      </td><td>128                     </td><td>1                       </td><td> 35                     </td><td>Lee Wilkie              </td></tr>\n",
       "\t<tr><td>28                      </td><td>4863                    </td><td>66                      </td><td> 54                     </td><td>1                       </td><td> 25                     </td><td>Boban Grncarov          </td></tr>\n",
       "\t<tr><td>29                      </td><td>4902                    </td><td>73                      </td><td>145                     </td><td>1                       </td><td> 68                     </td><td>Iriney                  </td></tr>\n",
       "\t<tr><td>30                      </td><td>4939                    </td><td>62                      </td><td>116                     </td><td>1                       </td><td> 44                     </td><td>Tim Clancy              </td></tr>\n",
       "\t<tr><td>...</td><td>...</td><td>...</td><td>...</td><td>...</td><td>...</td><td>...</td></tr>\n",
       "\t<tr><td>11031                 </td><td>701154                </td><td>65                    </td><td>42                    </td><td>1                     </td><td> 1                    </td><td>Kylian Mbappe Lottin  </td></tr>\n",
       "\t<tr><td>11032                 </td><td>703659                </td><td>51                    </td><td>48                    </td><td>1                     </td><td> 1                    </td><td>Colin Trachsel        </td></tr>\n",
       "\t<tr><td>11033                 </td><td>704523                </td><td>62                    </td><td>43                    </td><td>1                     </td><td> 3                    </td><td>Christopher Nkunku    </td></tr>\n",
       "\t<tr><td>11034                 </td><td>705484                </td><td>52                    </td><td>32                    </td><td>1                     </td><td> 3                    </td><td>Eray Cumart           </td></tr>\n",
       "\t<tr><td>11035                 </td><td>706985                </td><td>58                    </td><td>53                    </td><td>1                     </td><td> 1                    </td><td>Jordan Lyden          </td></tr>\n",
       "\t<tr><td>11036                 </td><td>710807                </td><td>67                    </td><td>47                    </td><td>1                     </td><td> 1                    </td><td>Jonatan Montiel       </td></tr>\n",
       "\t<tr><td>11037                 </td><td>715642                </td><td>59                    </td><td>61                    </td><td>1                     </td><td> 1                    </td><td>Aissa Laidouni        </td></tr>\n",
       "\t<tr><td>11038                 </td><td>716998                </td><td>56                    </td><td>46                    </td><td>1                     </td><td> 1                    </td><td>Sebastien Lamonge     </td></tr>\n",
       "\t<tr><td>11039                 </td><td>717248                </td><td>64                    </td><td>59                    </td><td>1                     </td><td> 3                    </td><td>Felipe Augusto        </td></tr>\n",
       "\t<tr><td>11040                 </td><td>717270                </td><td>61                    </td><td>56                    </td><td>1                     </td><td> 1                    </td><td>Antoine Rabillard     </td></tr>\n",
       "\t<tr><td>11041                 </td><td>717557                </td><td>64                    </td><td>49                    </td><td>1                     </td><td> 4                    </td><td>Levi Garcia           </td></tr>\n",
       "\t<tr><td>11042                 </td><td>719413                </td><td>64                    </td><td>54                    </td><td>1                     </td><td> 3                    </td><td>Dorian Caddy          </td></tr>\n",
       "\t<tr><td>11043                 </td><td>720738                </td><td>55                    </td><td>52                    </td><td>1                     </td><td> 5                    </td><td>Charles Traore        </td></tr>\n",
       "\t<tr><td>11044                 </td><td>721133                </td><td>70                    </td><td>60                    </td><td>1                     </td><td>15                    </td><td>Rafa Soares           </td></tr>\n",
       "\t<tr><td>11045                 </td><td>722766                </td><td>71                    </td><td>36                    </td><td>1                     </td><td>10                    </td><td>Charly Musonda        </td></tr>\n",
       "\t<tr><td>11046                 </td><td>723037                </td><td>53                    </td><td>54                    </td><td>1                     </td><td> 7                    </td><td>Wanderson Lima        </td></tr>\n",
       "\t<tr><td>11047                 </td><td>725718                </td><td>60                    </td><td>54                    </td><td>1                     </td><td> 1                    </td><td>Dennis van der Heijden</td></tr>\n",
       "\t<tr><td>11048                 </td><td>726956                </td><td>54                    </td><td>41                    </td><td>1                     </td><td> 4                    </td><td>Cedric Itten          </td></tr>\n",
       "\t<tr><td>11049                 </td><td>728125                </td><td>50                    </td><td>49                    </td><td>1                     </td><td> 2                    </td><td>Christopher McLaughlin</td></tr>\n",
       "\t<tr><td>11050                 </td><td>728414                </td><td>59                    </td><td>54                    </td><td>1                     </td><td> 1                    </td><td>Justin Hoogma         </td></tr>\n",
       "\t<tr><td>11051                 </td><td>728478                </td><td>56                    </td><td>54                    </td><td>1                     </td><td> 1                    </td><td>Kamil Jozwiak         </td></tr>\n",
       "\t<tr><td>11052                 </td><td>730065                </td><td>57                    </td><td>59                    </td><td>1                     </td><td> 1                    </td><td>Jorge Intima          </td></tr>\n",
       "\t<tr><td>11053                 </td><td>733787                </td><td>51                    </td><td>45                    </td><td>1                     </td><td> 1                    </td><td>Linus Obexer          </td></tr>\n",
       "\t<tr><td>11054                 </td><td>742405                </td><td>51                    </td><td>56                    </td><td>1                     </td><td> 1                    </td><td>Tom Davies            </td></tr>\n",
       "\t<tr><td>11055                 </td><td>743720                </td><td>50                    </td><td>53                    </td><td>1                     </td><td> 1                    </td><td>Charles Pickel        </td></tr>\n",
       "\t<tr><td>11056                 </td><td>744907                </td><td>53                    </td><td>57                    </td><td>1                     </td><td> 1                    </td><td>Greg Taylor           </td></tr>\n",
       "\t<tr><td>11057                 </td><td>746419                </td><td>59                    </td><td>42                    </td><td>1                     </td><td> 1                    </td><td>Francisco Afonso      </td></tr>\n",
       "\t<tr><td>11058                 </td><td>748432                </td><td>58                    </td><td>46                    </td><td>1                     </td><td> 1                    </td><td>Fynn Arkenberg        </td></tr>\n",
       "\t<tr><td>11059                 </td><td>750435                </td><td>60                    </td><td>48                    </td><td>1                     </td><td> 1                    </td><td>Rees Greenwood        </td></tr>\n",
       "\t<tr><td>11060                 </td><td>750584                </td><td>58                    </td><td>54                    </td><td>1                     </td><td> 1                    </td><td>Alexandre Azevedo     </td></tr>\n",
       "</tbody>\n",
       "</table>\n"
      ],
      "text/latex": [
       "\\begin{tabular}{r|lllllll}\n",
       " X & player & overall\\_rating & gk\\_rating & leagues & appearances & names\\\\\n",
       "\\hline\n",
       "\t  1                       & 2625                     & 60                       & 153                      & 1                        &  86                      & Patryk Rachwal,18       \\\\\n",
       "\t  2                       & 2752                     & 72                       &  53                      & 1                        &  81                      & Diego Mainz             \\\\\n",
       "\t  3                       & 2768                     & 65                       & 128                      & 1                        &  71                      & Jose Dorado             \\\\\n",
       "\t  4                       & 2770                     & 73                       & 148                      & 2                        &   8                      & Ignacio Gonzalez        \\\\\n",
       "\t  5                       & 2790                     & 73                       & 144                      & 1                        &  50                      & Alberto Rey             \\\\\n",
       "\t  6                       & 2796                     & 69                       & 340                      & 1                        &   1                      & Javier Jimenez          \\\\\n",
       "\t  7                       & 2802                     & 79                       & 146                      & 2                        & 142                      & Pablo Hernandez         \\\\\n",
       "\t  8                       & 2805                     & 60                       & 141                      & 1                        & 126                      & Ruben Perez             \\\\\n",
       "\t  9                       & 2857                     & 72                       & 143                      & 1                        &   3                      & Ivan Perez              \\\\\n",
       "\t 10                       & 2862                     & 76                       & 146                      & 1                        &  13                      & Vicente Sanchez         \\\\\n",
       "\t 11                       & 2907                     & 63                       & 135                      & 1                        &   3                      & Gregory Lacombe         \\\\\n",
       "\t 12                       & 2973                     & 67                       & 147                      & 1                        &  11                      & Ugur Inceman            \\\\\n",
       "\t 13                       & 2977                     & 82                       & 104                      & 1                        &   3                      & David Rivas Rodriguez   \\\\\n",
       "\t 14                       & 2983                     & 68                       & 139                      & 1                        &  70                      & Jorge Molina            \\\\\n",
       "\t 15                       & 2984                     & 75                       & 364                      & 1                        &  19                      & Sergio Aragones         \\\\\n",
       "\t 16                       & 3140                     & 67                       & 136                      & 1                        &  35                      & Alexandre Hauw          \\\\\n",
       "\t 17                       & 3204                     & 78                       & 156                      & 1                        &  20                      & Marat Izmailov          \\\\\n",
       "\t 18                       & 3263                     & 67                       & 115                      & 1                        &  11                      & Kelly Berville          \\\\\n",
       "\t 19                       & 3264                     & 62                       &  98                      & 1                        &   1                      & Abdelmalek Cherrad      \\\\\n",
       "\t 20                       & 3316                     & 70                       & 108                      & 1                        &   3                      & Oscar Sanchez           \\\\\n",
       "\t 21                       & 3329                     & 62                       & 130                      & 1                        &  55                      & Vincent Euvrard         \\\\\n",
       "\t 22                       & 3377                     & 59                       & 138                      & 1                        &   1                      & Luca Belingheri         \\\\\n",
       "\t 23                       & 3441                     & 66                       & 138                      & 1                        &  63                      & Aleksander Radosavljevic\\\\\n",
       "\t 24                       & 3512                     & 75                       & 143                      & 1                        &   4                      & Peter Halmosi           \\\\\n",
       "\t 25                       & 3517                     & 79                       & 149                      & 1                        &  17                      & Alexandr Kerzhakov      \\\\\n",
       "\t 26                       & 3520                     & 85                       & 159                      & 1                        &  63                      & Andrey Arshavin         \\\\\n",
       "\t 27                       & 4747                     & 73                       & 128                      & 1                        &  35                      & Lee Wilkie              \\\\\n",
       "\t 28                       & 4863                     & 66                       &  54                      & 1                        &  25                      & Boban Grncarov          \\\\\n",
       "\t 29                       & 4902                     & 73                       & 145                      & 1                        &  68                      & Iriney                  \\\\\n",
       "\t 30                       & 4939                     & 62                       & 116                      & 1                        &  44                      & Tim Clancy              \\\\\n",
       "\t ... & ... & ... & ... & ... & ... & ...\\\\\n",
       "\t 11031                  & 701154                 & 65                     & 42                     & 1                      &  1                     & Kylian Mbappe Lottin  \\\\\n",
       "\t 11032                  & 703659                 & 51                     & 48                     & 1                      &  1                     & Colin Trachsel        \\\\\n",
       "\t 11033                  & 704523                 & 62                     & 43                     & 1                      &  3                     & Christopher Nkunku    \\\\\n",
       "\t 11034                  & 705484                 & 52                     & 32                     & 1                      &  3                     & Eray Cumart           \\\\\n",
       "\t 11035                  & 706985                 & 58                     & 53                     & 1                      &  1                     & Jordan Lyden          \\\\\n",
       "\t 11036                  & 710807                 & 67                     & 47                     & 1                      &  1                     & Jonatan Montiel       \\\\\n",
       "\t 11037                  & 715642                 & 59                     & 61                     & 1                      &  1                     & Aissa Laidouni        \\\\\n",
       "\t 11038                  & 716998                 & 56                     & 46                     & 1                      &  1                     & Sebastien Lamonge     \\\\\n",
       "\t 11039                  & 717248                 & 64                     & 59                     & 1                      &  3                     & Felipe Augusto        \\\\\n",
       "\t 11040                  & 717270                 & 61                     & 56                     & 1                      &  1                     & Antoine Rabillard     \\\\\n",
       "\t 11041                  & 717557                 & 64                     & 49                     & 1                      &  4                     & Levi Garcia           \\\\\n",
       "\t 11042                  & 719413                 & 64                     & 54                     & 1                      &  3                     & Dorian Caddy          \\\\\n",
       "\t 11043                  & 720738                 & 55                     & 52                     & 1                      &  5                     & Charles Traore        \\\\\n",
       "\t 11044                  & 721133                 & 70                     & 60                     & 1                      & 15                     & Rafa Soares           \\\\\n",
       "\t 11045                  & 722766                 & 71                     & 36                     & 1                      & 10                     & Charly Musonda        \\\\\n",
       "\t 11046                  & 723037                 & 53                     & 54                     & 1                      &  7                     & Wanderson Lima        \\\\\n",
       "\t 11047                  & 725718                 & 60                     & 54                     & 1                      &  1                     & Dennis van der Heijden\\\\\n",
       "\t 11048                  & 726956                 & 54                     & 41                     & 1                      &  4                     & Cedric Itten          \\\\\n",
       "\t 11049                  & 728125                 & 50                     & 49                     & 1                      &  2                     & Christopher McLaughlin\\\\\n",
       "\t 11050                  & 728414                 & 59                     & 54                     & 1                      &  1                     & Justin Hoogma         \\\\\n",
       "\t 11051                  & 728478                 & 56                     & 54                     & 1                      &  1                     & Kamil Jozwiak         \\\\\n",
       "\t 11052                  & 730065                 & 57                     & 59                     & 1                      &  1                     & Jorge Intima          \\\\\n",
       "\t 11053                  & 733787                 & 51                     & 45                     & 1                      &  1                     & Linus Obexer          \\\\\n",
       "\t 11054                  & 742405                 & 51                     & 56                     & 1                      &  1                     & Tom Davies            \\\\\n",
       "\t 11055                  & 743720                 & 50                     & 53                     & 1                      &  1                     & Charles Pickel        \\\\\n",
       "\t 11056                  & 744907                 & 53                     & 57                     & 1                      &  1                     & Greg Taylor           \\\\\n",
       "\t 11057                  & 746419                 & 59                     & 42                     & 1                      &  1                     & Francisco Afonso      \\\\\n",
       "\t 11058                  & 748432                 & 58                     & 46                     & 1                      &  1                     & Fynn Arkenberg        \\\\\n",
       "\t 11059                  & 750435                 & 60                     & 48                     & 1                      &  1                     & Rees Greenwood        \\\\\n",
       "\t 11060                  & 750584                 & 58                     & 54                     & 1                      &  1                     & Alexandre Azevedo     \\\\\n",
       "\\end{tabular}\n"
      ],
      "text/markdown": [
       "\n",
       "X | player | overall_rating | gk_rating | leagues | appearances | names | \n",
       "|---|---|---|---|---|---|---|---|---|---|---|---|---|---|---|---|---|---|---|---|---|---|---|---|---|---|---|---|---|---|---|---|---|---|---|---|---|---|---|---|---|---|---|---|---|---|---|---|---|---|---|---|---|---|---|---|---|---|---|---|---|\n",
       "|  1                       | 2625                     | 60                       | 153                      | 1                        |  86                      | Patryk Rachwal,18        | \n",
       "|  2                       | 2752                     | 72                       |  53                      | 1                        |  81                      | Diego Mainz              | \n",
       "|  3                       | 2768                     | 65                       | 128                      | 1                        |  71                      | Jose Dorado              | \n",
       "|  4                       | 2770                     | 73                       | 148                      | 2                        |   8                      | Ignacio Gonzalez         | \n",
       "|  5                       | 2790                     | 73                       | 144                      | 1                        |  50                      | Alberto Rey              | \n",
       "|  6                       | 2796                     | 69                       | 340                      | 1                        |   1                      | Javier Jimenez           | \n",
       "|  7                       | 2802                     | 79                       | 146                      | 2                        | 142                      | Pablo Hernandez          | \n",
       "|  8                       | 2805                     | 60                       | 141                      | 1                        | 126                      | Ruben Perez              | \n",
       "|  9                       | 2857                     | 72                       | 143                      | 1                        |   3                      | Ivan Perez               | \n",
       "| 10                       | 2862                     | 76                       | 146                      | 1                        |  13                      | Vicente Sanchez          | \n",
       "| 11                       | 2907                     | 63                       | 135                      | 1                        |   3                      | Gregory Lacombe          | \n",
       "| 12                       | 2973                     | 67                       | 147                      | 1                        |  11                      | Ugur Inceman             | \n",
       "| 13                       | 2977                     | 82                       | 104                      | 1                        |   3                      | David Rivas Rodriguez    | \n",
       "| 14                       | 2983                     | 68                       | 139                      | 1                        |  70                      | Jorge Molina             | \n",
       "| 15                       | 2984                     | 75                       | 364                      | 1                        |  19                      | Sergio Aragones          | \n",
       "| 16                       | 3140                     | 67                       | 136                      | 1                        |  35                      | Alexandre Hauw           | \n",
       "| 17                       | 3204                     | 78                       | 156                      | 1                        |  20                      | Marat Izmailov           | \n",
       "| 18                       | 3263                     | 67                       | 115                      | 1                        |  11                      | Kelly Berville           | \n",
       "| 19                       | 3264                     | 62                       |  98                      | 1                        |   1                      | Abdelmalek Cherrad       | \n",
       "| 20                       | 3316                     | 70                       | 108                      | 1                        |   3                      | Oscar Sanchez            | \n",
       "| 21                       | 3329                     | 62                       | 130                      | 1                        |  55                      | Vincent Euvrard          | \n",
       "| 22                       | 3377                     | 59                       | 138                      | 1                        |   1                      | Luca Belingheri          | \n",
       "| 23                       | 3441                     | 66                       | 138                      | 1                        |  63                      | Aleksander Radosavljevic | \n",
       "| 24                       | 3512                     | 75                       | 143                      | 1                        |   4                      | Peter Halmosi            | \n",
       "| 25                       | 3517                     | 79                       | 149                      | 1                        |  17                      | Alexandr Kerzhakov       | \n",
       "| 26                       | 3520                     | 85                       | 159                      | 1                        |  63                      | Andrey Arshavin          | \n",
       "| 27                       | 4747                     | 73                       | 128                      | 1                        |  35                      | Lee Wilkie               | \n",
       "| 28                       | 4863                     | 66                       |  54                      | 1                        |  25                      | Boban Grncarov           | \n",
       "| 29                       | 4902                     | 73                       | 145                      | 1                        |  68                      | Iriney                   | \n",
       "| 30                       | 4939                     | 62                       | 116                      | 1                        |  44                      | Tim Clancy               | \n",
       "| ... | ... | ... | ... | ... | ... | ... | \n",
       "| 11031                  | 701154                 | 65                     | 42                     | 1                      |  1                     | Kylian Mbappe Lottin   | \n",
       "| 11032                  | 703659                 | 51                     | 48                     | 1                      |  1                     | Colin Trachsel         | \n",
       "| 11033                  | 704523                 | 62                     | 43                     | 1                      |  3                     | Christopher Nkunku     | \n",
       "| 11034                  | 705484                 | 52                     | 32                     | 1                      |  3                     | Eray Cumart            | \n",
       "| 11035                  | 706985                 | 58                     | 53                     | 1                      |  1                     | Jordan Lyden           | \n",
       "| 11036                  | 710807                 | 67                     | 47                     | 1                      |  1                     | Jonatan Montiel        | \n",
       "| 11037                  | 715642                 | 59                     | 61                     | 1                      |  1                     | Aissa Laidouni         | \n",
       "| 11038                  | 716998                 | 56                     | 46                     | 1                      |  1                     | Sebastien Lamonge      | \n",
       "| 11039                  | 717248                 | 64                     | 59                     | 1                      |  3                     | Felipe Augusto         | \n",
       "| 11040                  | 717270                 | 61                     | 56                     | 1                      |  1                     | Antoine Rabillard      | \n",
       "| 11041                  | 717557                 | 64                     | 49                     | 1                      |  4                     | Levi Garcia            | \n",
       "| 11042                  | 719413                 | 64                     | 54                     | 1                      |  3                     | Dorian Caddy           | \n",
       "| 11043                  | 720738                 | 55                     | 52                     | 1                      |  5                     | Charles Traore         | \n",
       "| 11044                  | 721133                 | 70                     | 60                     | 1                      | 15                     | Rafa Soares            | \n",
       "| 11045                  | 722766                 | 71                     | 36                     | 1                      | 10                     | Charly Musonda         | \n",
       "| 11046                  | 723037                 | 53                     | 54                     | 1                      |  7                     | Wanderson Lima         | \n",
       "| 11047                  | 725718                 | 60                     | 54                     | 1                      |  1                     | Dennis van der Heijden | \n",
       "| 11048                  | 726956                 | 54                     | 41                     | 1                      |  4                     | Cedric Itten           | \n",
       "| 11049                  | 728125                 | 50                     | 49                     | 1                      |  2                     | Christopher McLaughlin | \n",
       "| 11050                  | 728414                 | 59                     | 54                     | 1                      |  1                     | Justin Hoogma          | \n",
       "| 11051                  | 728478                 | 56                     | 54                     | 1                      |  1                     | Kamil Jozwiak          | \n",
       "| 11052                  | 730065                 | 57                     | 59                     | 1                      |  1                     | Jorge Intima           | \n",
       "| 11053                  | 733787                 | 51                     | 45                     | 1                      |  1                     | Linus Obexer           | \n",
       "| 11054                  | 742405                 | 51                     | 56                     | 1                      |  1                     | Tom Davies             | \n",
       "| 11055                  | 743720                 | 50                     | 53                     | 1                      |  1                     | Charles Pickel         | \n",
       "| 11056                  | 744907                 | 53                     | 57                     | 1                      |  1                     | Greg Taylor            | \n",
       "| 11057                  | 746419                 | 59                     | 42                     | 1                      |  1                     | Francisco Afonso       | \n",
       "| 11058                  | 748432                 | 58                     | 46                     | 1                      |  1                     | Fynn Arkenberg         | \n",
       "| 11059                  | 750435                 | 60                     | 48                     | 1                      |  1                     | Rees Greenwood         | \n",
       "| 11060                  | 750584                 | 58                     | 54                     | 1                      |  1                     | Alexandre Azevedo      | \n",
       "\n",
       "\n"
      ],
      "text/plain": [
       "      X     player overall_rating gk_rating leagues appearances\n",
       "1      1    2625   60             153       1        86        \n",
       "2      2    2752   72              53       1        81        \n",
       "3      3    2768   65             128       1        71        \n",
       "4      4    2770   73             148       2         8        \n",
       "5      5    2790   73             144       1        50        \n",
       "6      6    2796   69             340       1         1        \n",
       "7      7    2802   79             146       2       142        \n",
       "8      8    2805   60             141       1       126        \n",
       "9      9    2857   72             143       1         3        \n",
       "10    10    2862   76             146       1        13        \n",
       "11    11    2907   63             135       1         3        \n",
       "12    12    2973   67             147       1        11        \n",
       "13    13    2977   82             104       1         3        \n",
       "14    14    2983   68             139       1        70        \n",
       "15    15    2984   75             364       1        19        \n",
       "16    16    3140   67             136       1        35        \n",
       "17    17    3204   78             156       1        20        \n",
       "18    18    3263   67             115       1        11        \n",
       "19    19    3264   62              98       1         1        \n",
       "20    20    3316   70             108       1         3        \n",
       "21    21    3329   62             130       1        55        \n",
       "22    22    3377   59             138       1         1        \n",
       "23    23    3441   66             138       1        63        \n",
       "24    24    3512   75             143       1         4        \n",
       "25    25    3517   79             149       1        17        \n",
       "26    26    3520   85             159       1        63        \n",
       "27    27    4747   73             128       1        35        \n",
       "28    28    4863   66              54       1        25        \n",
       "29    29    4902   73             145       1        68        \n",
       "30    30    4939   62             116       1        44        \n",
       "...   ...   ...    ...            ...       ...     ...        \n",
       "11031 11031 701154 65             42        1        1         \n",
       "11032 11032 703659 51             48        1        1         \n",
       "11033 11033 704523 62             43        1        3         \n",
       "11034 11034 705484 52             32        1        3         \n",
       "11035 11035 706985 58             53        1        1         \n",
       "11036 11036 710807 67             47        1        1         \n",
       "11037 11037 715642 59             61        1        1         \n",
       "11038 11038 716998 56             46        1        1         \n",
       "11039 11039 717248 64             59        1        3         \n",
       "11040 11040 717270 61             56        1        1         \n",
       "11041 11041 717557 64             49        1        4         \n",
       "11042 11042 719413 64             54        1        3         \n",
       "11043 11043 720738 55             52        1        5         \n",
       "11044 11044 721133 70             60        1       15         \n",
       "11045 11045 722766 71             36        1       10         \n",
       "11046 11046 723037 53             54        1        7         \n",
       "11047 11047 725718 60             54        1        1         \n",
       "11048 11048 726956 54             41        1        4         \n",
       "11049 11049 728125 50             49        1        2         \n",
       "11050 11050 728414 59             54        1        1         \n",
       "11051 11051 728478 56             54        1        1         \n",
       "11052 11052 730065 57             59        1        1         \n",
       "11053 11053 733787 51             45        1        1         \n",
       "11054 11054 742405 51             56        1        1         \n",
       "11055 11055 743720 50             53        1        1         \n",
       "11056 11056 744907 53             57        1        1         \n",
       "11057 11057 746419 59             42        1        1         \n",
       "11058 11058 748432 58             46        1        1         \n",
       "11059 11059 750435 60             48        1        1         \n",
       "11060 11060 750584 58             54        1        1         \n",
       "      names                   \n",
       "1     Patryk Rachwal,18       \n",
       "2     Diego Mainz             \n",
       "3     Jose Dorado             \n",
       "4     Ignacio Gonzalez        \n",
       "5     Alberto Rey             \n",
       "6     Javier Jimenez          \n",
       "7     Pablo Hernandez         \n",
       "8     Ruben Perez             \n",
       "9     Ivan Perez              \n",
       "10    Vicente Sanchez         \n",
       "11    Gregory Lacombe         \n",
       "12    Ugur Inceman            \n",
       "13    David Rivas Rodriguez   \n",
       "14    Jorge Molina            \n",
       "15    Sergio Aragones         \n",
       "16    Alexandre Hauw          \n",
       "17    Marat Izmailov          \n",
       "18    Kelly Berville          \n",
       "19    Abdelmalek Cherrad      \n",
       "20    Oscar Sanchez           \n",
       "21    Vincent Euvrard         \n",
       "22    Luca Belingheri         \n",
       "23    Aleksander Radosavljevic\n",
       "24    Peter Halmosi           \n",
       "25    Alexandr Kerzhakov      \n",
       "26    Andrey Arshavin         \n",
       "27    Lee Wilkie              \n",
       "28    Boban Grncarov          \n",
       "29    Iriney                  \n",
       "30    Tim Clancy              \n",
       "...   ...                     \n",
       "11031 Kylian Mbappe Lottin    \n",
       "11032 Colin Trachsel          \n",
       "11033 Christopher Nkunku      \n",
       "11034 Eray Cumart             \n",
       "11035 Jordan Lyden            \n",
       "11036 Jonatan Montiel         \n",
       "11037 Aissa Laidouni          \n",
       "11038 Sebastien Lamonge       \n",
       "11039 Felipe Augusto          \n",
       "11040 Antoine Rabillard       \n",
       "11041 Levi Garcia             \n",
       "11042 Dorian Caddy            \n",
       "11043 Charles Traore          \n",
       "11044 Rafa Soares             \n",
       "11045 Charly Musonda          \n",
       "11046 Wanderson Lima          \n",
       "11047 Dennis van der Heijden  \n",
       "11048 Cedric Itten            \n",
       "11049 Christopher McLaughlin  \n",
       "11050 Justin Hoogma           \n",
       "11051 Kamil Jozwiak           \n",
       "11052 Jorge Intima            \n",
       "11053 Linus Obexer            \n",
       "11054 Tom Davies              \n",
       "11055 Charles Pickel          \n",
       "11056 Greg Taylor             \n",
       "11057 Francisco Afonso        \n",
       "11058 Fynn Arkenberg          \n",
       "11059 Rees Greenwood          \n",
       "11060 Alexandre Azevedo       "
      ]
     },
     "metadata": {},
     "output_type": "display_data"
    }
   ],
   "source": [
    "players"
   ]
  },
  {
   "cell_type": "code",
   "execution_count": 4,
   "metadata": {
    "collapsed": false
   },
   "outputs": [
    {
     "name": "stderr",
     "output_type": "stream",
     "text": [
      "Loading required package: gsubfn\n",
      "Loading required package: proto\n",
      "Could not load tcltk.  Will use slower R code instead.\n",
      "Loading required package: RSQLite\n"
     ]
    }
   ],
   "source": [
    "library(sqldf)"
   ]
  },
  {
   "cell_type": "markdown",
   "metadata": {},
   "source": [
    "top 10 players by overall rating"
   ]
  },
  {
   "cell_type": "code",
   "execution_count": 5,
   "metadata": {
    "collapsed": false
   },
   "outputs": [
    {
     "name": "stderr",
     "output_type": "stream",
     "text": [
      "Warning message:\n",
      "\"Quoted identifiers should have class SQL, use DBI::SQL() if the caller performs the quoting.\""
     ]
    },
    {
     "data": {
      "text/html": [
       "<table>\n",
       "<thead><tr><th scope=col>names</th><th scope=col>overall_rating</th></tr></thead>\n",
       "<tbody>\n",
       "\t<tr><td>Gregory Coupet   </td><td>92               </td></tr>\n",
       "\t<tr><td>Iker Casillas    </td><td>91               </td></tr>\n",
       "\t<tr><td>Ronaldinho       </td><td>91               </td></tr>\n",
       "\t<tr><td>Cristiano Ronaldo</td><td>91               </td></tr>\n",
       "\t<tr><td>Manuel Neuer     </td><td>90               </td></tr>\n",
       "\t<tr><td>John Terry       </td><td>90               </td></tr>\n",
       "\t<tr><td>Gianluigi Buffon </td><td>90               </td></tr>\n",
       "\t<tr><td>Lionel Messi     </td><td>90               </td></tr>\n",
       "\t<tr><td>Luis Suarez      </td><td>90               </td></tr>\n",
       "\t<tr><td>Kaka             </td><td>90               </td></tr>\n",
       "</tbody>\n",
       "</table>\n"
      ],
      "text/latex": [
       "\\begin{tabular}{r|ll}\n",
       " names & overall\\_rating\\\\\n",
       "\\hline\n",
       "\t Gregory Coupet    & 92               \\\\\n",
       "\t Iker Casillas     & 91               \\\\\n",
       "\t Ronaldinho        & 91               \\\\\n",
       "\t Cristiano Ronaldo & 91               \\\\\n",
       "\t Manuel Neuer      & 90               \\\\\n",
       "\t John Terry        & 90               \\\\\n",
       "\t Gianluigi Buffon  & 90               \\\\\n",
       "\t Lionel Messi      & 90               \\\\\n",
       "\t Luis Suarez       & 90               \\\\\n",
       "\t Kaka              & 90               \\\\\n",
       "\\end{tabular}\n"
      ],
      "text/markdown": [
       "\n",
       "names | overall_rating | \n",
       "|---|---|---|---|---|---|---|---|---|---|\n",
       "| Gregory Coupet    | 92                | \n",
       "| Iker Casillas     | 91                | \n",
       "| Ronaldinho        | 91                | \n",
       "| Cristiano Ronaldo | 91                | \n",
       "| Manuel Neuer      | 90                | \n",
       "| John Terry        | 90                | \n",
       "| Gianluigi Buffon  | 90                | \n",
       "| Lionel Messi      | 90                | \n",
       "| Luis Suarez       | 90                | \n",
       "| Kaka              | 90                | \n",
       "\n",
       "\n"
      ],
      "text/plain": [
       "   names             overall_rating\n",
       "1  Gregory Coupet    92            \n",
       "2  Iker Casillas     91            \n",
       "3  Ronaldinho        91            \n",
       "4  Cristiano Ronaldo 91            \n",
       "5  Manuel Neuer      90            \n",
       "6  John Terry        90            \n",
       "7  Gianluigi Buffon  90            \n",
       "8  Lionel Messi      90            \n",
       "9  Luis Suarez       90            \n",
       "10 Kaka              90            "
      ]
     },
     "metadata": {},
     "output_type": "display_data"
    }
   ],
   "source": [
    "sqldf(\"select names, overall_rating from players order by overall_rating desc\")[1:10,]"
   ]
  },
  {
   "cell_type": "markdown",
   "metadata": {},
   "source": [
    "top 10 goalkeepers by sum of gk attributes"
   ]
  },
  {
   "cell_type": "code",
   "execution_count": 6,
   "metadata": {
    "collapsed": false
   },
   "outputs": [
    {
     "data": {
      "text/html": [
       "<table>\n",
       "<thead><tr><th scope=col>names</th><th scope=col>gk_rating</th></tr></thead>\n",
       "<tbody>\n",
       "\t<tr><td>Gianluigi Buffon </td><td>449              </td></tr>\n",
       "\t<tr><td>Gregory Coupet   </td><td>447              </td></tr>\n",
       "\t<tr><td>Petr Cech        </td><td>445              </td></tr>\n",
       "\t<tr><td>Iker Casillas    </td><td>442              </td></tr>\n",
       "\t<tr><td>Manuel Neuer     </td><td>440              </td></tr>\n",
       "\t<tr><td>Julio Cesar      </td><td>438              </td></tr>\n",
       "\t<tr><td>Sebastian Frey   </td><td>437              </td></tr>\n",
       "\t<tr><td>Edwin van der Sar</td><td>436              </td></tr>\n",
       "\t<tr><td>David De Gea     </td><td>429              </td></tr>\n",
       "\t<tr><td>Pepe Reina       </td><td>428              </td></tr>\n",
       "</tbody>\n",
       "</table>\n"
      ],
      "text/latex": [
       "\\begin{tabular}{r|ll}\n",
       " names & gk\\_rating\\\\\n",
       "\\hline\n",
       "\t Gianluigi Buffon  & 449              \\\\\n",
       "\t Gregory Coupet    & 447              \\\\\n",
       "\t Petr Cech         & 445              \\\\\n",
       "\t Iker Casillas     & 442              \\\\\n",
       "\t Manuel Neuer      & 440              \\\\\n",
       "\t Julio Cesar       & 438              \\\\\n",
       "\t Sebastian Frey    & 437              \\\\\n",
       "\t Edwin van der Sar & 436              \\\\\n",
       "\t David De Gea      & 429              \\\\\n",
       "\t Pepe Reina        & 428              \\\\\n",
       "\\end{tabular}\n"
      ],
      "text/markdown": [
       "\n",
       "names | gk_rating | \n",
       "|---|---|---|---|---|---|---|---|---|---|\n",
       "| Gianluigi Buffon  | 449               | \n",
       "| Gregory Coupet    | 447               | \n",
       "| Petr Cech         | 445               | \n",
       "| Iker Casillas     | 442               | \n",
       "| Manuel Neuer      | 440               | \n",
       "| Julio Cesar       | 438               | \n",
       "| Sebastian Frey    | 437               | \n",
       "| Edwin van der Sar | 436               | \n",
       "| David De Gea      | 429               | \n",
       "| Pepe Reina        | 428               | \n",
       "\n",
       "\n"
      ],
      "text/plain": [
       "   names             gk_rating\n",
       "1  Gianluigi Buffon  449      \n",
       "2  Gregory Coupet    447      \n",
       "3  Petr Cech         445      \n",
       "4  Iker Casillas     442      \n",
       "5  Manuel Neuer      440      \n",
       "6  Julio Cesar       438      \n",
       "7  Sebastian Frey    437      \n",
       "8  Edwin van der Sar 436      \n",
       "9  David De Gea      429      \n",
       "10 Pepe Reina        428      "
      ]
     },
     "metadata": {},
     "output_type": "display_data"
    }
   ],
   "source": [
    "sqldf(\"select names, gk_rating from players order by gk_rating desc\")[1:10,]"
   ]
  },
  {
   "cell_type": "markdown",
   "metadata": {},
   "source": [
    "top 10 players by number of appearances"
   ]
  },
  {
   "cell_type": "code",
   "execution_count": 7,
   "metadata": {
    "collapsed": false
   },
   "outputs": [
    {
     "data": {
      "text/html": [
       "<table>\n",
       "<thead><tr><th scope=col>names</th><th scope=col>appearances</th></tr></thead>\n",
       "<tbody>\n",
       "\t<tr><td>Steve Mandanda      </td><td>300                 </td></tr>\n",
       "\t<tr><td>Stephane Ruffier    </td><td>293                 </td></tr>\n",
       "\t<tr><td>Gorka Iraizoz Moreno</td><td>286                 </td></tr>\n",
       "\t<tr><td>Samir Handanovic    </td><td>286                 </td></tr>\n",
       "\t<tr><td>Hugo Lloris         </td><td>282                 </td></tr>\n",
       "\t<tr><td>Joe Hart            </td><td>275                 </td></tr>\n",
       "\t<tr><td>Cedric Carrasso     </td><td>268                 </td></tr>\n",
       "\t<tr><td>Gareth Barry        </td><td>258                 </td></tr>\n",
       "\t<tr><td>Borja Valero        </td><td>257                 </td></tr>\n",
       "\t<tr><td>Manuel Neuer        </td><td>255                 </td></tr>\n",
       "</tbody>\n",
       "</table>\n"
      ],
      "text/latex": [
       "\\begin{tabular}{r|ll}\n",
       " names & appearances\\\\\n",
       "\\hline\n",
       "\t Steve Mandanda       & 300                 \\\\\n",
       "\t Stephane Ruffier     & 293                 \\\\\n",
       "\t Gorka Iraizoz Moreno & 286                 \\\\\n",
       "\t Samir Handanovic     & 286                 \\\\\n",
       "\t Hugo Lloris          & 282                 \\\\\n",
       "\t Joe Hart             & 275                 \\\\\n",
       "\t Cedric Carrasso      & 268                 \\\\\n",
       "\t Gareth Barry         & 258                 \\\\\n",
       "\t Borja Valero         & 257                 \\\\\n",
       "\t Manuel Neuer         & 255                 \\\\\n",
       "\\end{tabular}\n"
      ],
      "text/markdown": [
       "\n",
       "names | appearances | \n",
       "|---|---|---|---|---|---|---|---|---|---|\n",
       "| Steve Mandanda       | 300                  | \n",
       "| Stephane Ruffier     | 293                  | \n",
       "| Gorka Iraizoz Moreno | 286                  | \n",
       "| Samir Handanovic     | 286                  | \n",
       "| Hugo Lloris          | 282                  | \n",
       "| Joe Hart             | 275                  | \n",
       "| Cedric Carrasso      | 268                  | \n",
       "| Gareth Barry         | 258                  | \n",
       "| Borja Valero         | 257                  | \n",
       "| Manuel Neuer         | 255                  | \n",
       "\n",
       "\n"
      ],
      "text/plain": [
       "   names                appearances\n",
       "1  Steve Mandanda       300        \n",
       "2  Stephane Ruffier     293        \n",
       "3  Gorka Iraizoz Moreno 286        \n",
       "4  Samir Handanovic     286        \n",
       "5  Hugo Lloris          282        \n",
       "6  Joe Hart             275        \n",
       "7  Cedric Carrasso      268        \n",
       "8  Gareth Barry         258        \n",
       "9  Borja Valero         257        \n",
       "10 Manuel Neuer         255        "
      ]
     },
     "metadata": {},
     "output_type": "display_data"
    }
   ],
   "source": [
    "sqldf(\"select names, appearances from players order by appearances desc\")[1:10,]"
   ]
  },
  {
   "cell_type": "markdown",
   "metadata": {},
   "source": [
    " top 10 players by number of leagues they played in"
   ]
  },
  {
   "cell_type": "code",
   "execution_count": 8,
   "metadata": {
    "collapsed": false
   },
   "outputs": [
    {
     "data": {
      "text/html": [
       "<table>\n",
       "<thead><tr><th scope=col>names</th><th scope=col>leagues</th></tr></thead>\n",
       "<tbody>\n",
       "\t<tr><td>Gelson Fernandes     </td><td>6                    </td></tr>\n",
       "\t<tr><td>Ricky van Wolfswinkel</td><td>5                    </td></tr>\n",
       "\t<tr><td>Filip Djuricic       </td><td>5                    </td></tr>\n",
       "\t<tr><td>Radamel Falcao       </td><td>4                    </td></tr>\n",
       "\t<tr><td>Jonathan De Guzman   </td><td>4                    </td></tr>\n",
       "\t<tr><td>Almen Abdi           </td><td>4                    </td></tr>\n",
       "\t<tr><td>Ibrahim Afellay      </td><td>4                    </td></tr>\n",
       "\t<tr><td>Edson Braafheid      </td><td>4                    </td></tr>\n",
       "\t<tr><td>Eljero Elia          </td><td>4                    </td></tr>\n",
       "\t<tr><td>Danijel Pranjic      </td><td>4                    </td></tr>\n",
       "</tbody>\n",
       "</table>\n"
      ],
      "text/latex": [
       "\\begin{tabular}{r|ll}\n",
       " names & leagues\\\\\n",
       "\\hline\n",
       "\t Gelson Fernandes      & 6                    \\\\\n",
       "\t Ricky van Wolfswinkel & 5                    \\\\\n",
       "\t Filip Djuricic        & 5                    \\\\\n",
       "\t Radamel Falcao        & 4                    \\\\\n",
       "\t Jonathan De Guzman    & 4                    \\\\\n",
       "\t Almen Abdi            & 4                    \\\\\n",
       "\t Ibrahim Afellay       & 4                    \\\\\n",
       "\t Edson Braafheid       & 4                    \\\\\n",
       "\t Eljero Elia           & 4                    \\\\\n",
       "\t Danijel Pranjic       & 4                    \\\\\n",
       "\\end{tabular}\n"
      ],
      "text/markdown": [
       "\n",
       "names | leagues | \n",
       "|---|---|---|---|---|---|---|---|---|---|\n",
       "| Gelson Fernandes      | 6                     | \n",
       "| Ricky van Wolfswinkel | 5                     | \n",
       "| Filip Djuricic        | 5                     | \n",
       "| Radamel Falcao        | 4                     | \n",
       "| Jonathan De Guzman    | 4                     | \n",
       "| Almen Abdi            | 4                     | \n",
       "| Ibrahim Afellay       | 4                     | \n",
       "| Edson Braafheid       | 4                     | \n",
       "| Eljero Elia           | 4                     | \n",
       "| Danijel Pranjic       | 4                     | \n",
       "\n",
       "\n"
      ],
      "text/plain": [
       "   names                 leagues\n",
       "1  Gelson Fernandes      6      \n",
       "2  Ricky van Wolfswinkel 5      \n",
       "3  Filip Djuricic        5      \n",
       "4  Radamel Falcao        4      \n",
       "5  Jonathan De Guzman    4      \n",
       "6  Almen Abdi            4      \n",
       "7  Ibrahim Afellay       4      \n",
       "8  Edson Braafheid       4      \n",
       "9  Eljero Elia           4      \n",
       "10 Danijel Pranjic       4      "
      ]
     },
     "metadata": {},
     "output_type": "display_data"
    }
   ],
   "source": [
    "sqldf(\"select names, leagues from players order by leagues desc\")[1:10,]"
   ]
  },
  {
   "cell_type": "markdown",
   "metadata": {},
   "source": [
    "top 10 teams by sum of build up play attributes"
   ]
  },
  {
   "cell_type": "code",
   "execution_count": 9,
   "metadata": {
    "collapsed": false
   },
   "outputs": [
    {
     "data": {
      "text/html": [
       "<table>\n",
       "<thead><tr><th scope=col>team_long_name</th><th scope=col>buildUpPlay</th></tr></thead>\n",
       "<tbody>\n",
       "\t<tr><td>Widzew Lódz               </td><td>190                       </td></tr>\n",
       "\t<tr><td>Widzew Lódz               </td><td>190                       </td></tr>\n",
       "\t<tr><td>Carpi                     </td><td>190                       </td></tr>\n",
       "\t<tr><td>Podbeskidzie Bielsko-Biala</td><td>189                       </td></tr>\n",
       "\t<tr><td>FC Nantes                 </td><td>189                       </td></tr>\n",
       "\t<tr><td>Lazio                     </td><td>188                       </td></tr>\n",
       "\t<tr><td>Chievo Verona             </td><td>187                       </td></tr>\n",
       "\t<tr><td>Udinese                   </td><td>185                       </td></tr>\n",
       "\t<tr><td>Blackburn Rovers          </td><td>185                       </td></tr>\n",
       "\t<tr><td>Genoa                     </td><td>184                       </td></tr>\n",
       "</tbody>\n",
       "</table>\n"
      ],
      "text/latex": [
       "\\begin{tabular}{r|ll}\n",
       " team\\_long\\_name & buildUpPlay\\\\\n",
       "\\hline\n",
       "\t Widzew Lódz                & 190                       \\\\\n",
       "\t Widzew Lódz                & 190                       \\\\\n",
       "\t Carpi                      & 190                       \\\\\n",
       "\t Podbeskidzie Bielsko-Biala & 189                       \\\\\n",
       "\t FC Nantes                  & 189                       \\\\\n",
       "\t Lazio                      & 188                       \\\\\n",
       "\t Chievo Verona              & 187                       \\\\\n",
       "\t Udinese                    & 185                       \\\\\n",
       "\t Blackburn Rovers           & 185                       \\\\\n",
       "\t Genoa                      & 184                       \\\\\n",
       "\\end{tabular}\n"
      ],
      "text/markdown": [
       "\n",
       "team_long_name | buildUpPlay | \n",
       "|---|---|---|---|---|---|---|---|---|---|\n",
       "| Widzew Lódz                | 190                        | \n",
       "| Widzew Lódz                | 190                        | \n",
       "| Carpi                      | 190                        | \n",
       "| Podbeskidzie Bielsko-Biala | 189                        | \n",
       "| FC Nantes                  | 189                        | \n",
       "| Lazio                      | 188                        | \n",
       "| Chievo Verona              | 187                        | \n",
       "| Udinese                    | 185                        | \n",
       "| Blackburn Rovers           | 185                        | \n",
       "| Genoa                      | 184                        | \n",
       "\n",
       "\n"
      ],
      "text/plain": [
       "   team_long_name             buildUpPlay\n",
       "1  Widzew Lódz                190        \n",
       "2  Widzew Lódz                190        \n",
       "3  Carpi                      190        \n",
       "4  Podbeskidzie Bielsko-Biala 189        \n",
       "5  FC Nantes                  189        \n",
       "6  Lazio                      188        \n",
       "7  Chievo Verona              187        \n",
       "8  Udinese                    185        \n",
       "9  Blackburn Rovers           185        \n",
       "10 Genoa                      184        "
      ]
     },
     "metadata": {},
     "output_type": "display_data"
    }
   ],
   "source": [
    "sqldf(\"select team_long_name, buildUpPlay from teams order by buildUpPlay desc\")[1:10,]"
   ]
  },
  {
   "cell_type": "markdown",
   "metadata": {},
   "source": [
    " top 10 teams by sum of chance creation attributes"
   ]
  },
  {
   "cell_type": "code",
   "execution_count": 10,
   "metadata": {
    "collapsed": false
   },
   "outputs": [
    {
     "data": {
      "text/html": [
       "<table>\n",
       "<thead><tr><th scope=col>team_long_name</th><th scope=col>chanceCreation</th></tr></thead>\n",
       "<tbody>\n",
       "\t<tr><td>Lazio                 </td><td>220                   </td></tr>\n",
       "\t<tr><td>Birmingham City       </td><td>203                   </td></tr>\n",
       "\t<tr><td>Falkirk               </td><td>200                   </td></tr>\n",
       "\t<tr><td>Hamilton Academical FC</td><td>197                   </td></tr>\n",
       "\t<tr><td>Lech Poznan           </td><td>196                   </td></tr>\n",
       "\t<tr><td>Cagliari              </td><td>196                   </td></tr>\n",
       "\t<tr><td>Juventus              </td><td>195                   </td></tr>\n",
       "\t<tr><td>Bayer 04 Leverkusen   </td><td>192                   </td></tr>\n",
       "\t<tr><td>SV Werder Bremen      </td><td>192                   </td></tr>\n",
       "\t<tr><td>Roma                  </td><td>191                   </td></tr>\n",
       "</tbody>\n",
       "</table>\n"
      ],
      "text/latex": [
       "\\begin{tabular}{r|ll}\n",
       " team\\_long\\_name & chanceCreation\\\\\n",
       "\\hline\n",
       "\t Lazio                  & 220                   \\\\\n",
       "\t Birmingham City        & 203                   \\\\\n",
       "\t Falkirk                & 200                   \\\\\n",
       "\t Hamilton Academical FC & 197                   \\\\\n",
       "\t Lech Poznan            & 196                   \\\\\n",
       "\t Cagliari               & 196                   \\\\\n",
       "\t Juventus               & 195                   \\\\\n",
       "\t Bayer 04 Leverkusen    & 192                   \\\\\n",
       "\t SV Werder Bremen       & 192                   \\\\\n",
       "\t Roma                   & 191                   \\\\\n",
       "\\end{tabular}\n"
      ],
      "text/markdown": [
       "\n",
       "team_long_name | chanceCreation | \n",
       "|---|---|---|---|---|---|---|---|---|---|\n",
       "| Lazio                  | 220                    | \n",
       "| Birmingham City        | 203                    | \n",
       "| Falkirk                | 200                    | \n",
       "| Hamilton Academical FC | 197                    | \n",
       "| Lech Poznan            | 196                    | \n",
       "| Cagliari               | 196                    | \n",
       "| Juventus               | 195                    | \n",
       "| Bayer 04 Leverkusen    | 192                    | \n",
       "| SV Werder Bremen       | 192                    | \n",
       "| Roma                   | 191                    | \n",
       "\n",
       "\n"
      ],
      "text/plain": [
       "   team_long_name         chanceCreation\n",
       "1  Lazio                  220           \n",
       "2  Birmingham City        203           \n",
       "3  Falkirk                200           \n",
       "4  Hamilton Academical FC 197           \n",
       "5  Lech Poznan            196           \n",
       "6  Cagliari               196           \n",
       "7  Juventus               195           \n",
       "8  Bayer 04 Leverkusen    192           \n",
       "9  SV Werder Bremen       192           \n",
       "10 Roma                   191           "
      ]
     },
     "metadata": {},
     "output_type": "display_data"
    }
   ],
   "source": [
    "sqldf(\"select team_long_name, chanceCreation from teams order by chanceCreation desc\")[1:10,]"
   ]
  },
  {
   "cell_type": "markdown",
   "metadata": {},
   "source": [
    " top 10 teams by sum of defense attributes"
   ]
  },
  {
   "cell_type": "code",
   "execution_count": 11,
   "metadata": {
    "collapsed": false
   },
   "outputs": [
    {
     "data": {
      "text/html": [
       "<table>\n",
       "<thead><tr><th scope=col>team_long_name</th><th scope=col>defence</th></tr></thead>\n",
       "<tbody>\n",
       "\t<tr><td>Odra Wodzislaw     </td><td>205                </td></tr>\n",
       "\t<tr><td>KSV Roeselare      </td><td>205                </td></tr>\n",
       "\t<tr><td>Falkirk            </td><td>200                </td></tr>\n",
       "\t<tr><td>FC Barcelona       </td><td>191                </td></tr>\n",
       "\t<tr><td>Lazio              </td><td>190                </td></tr>\n",
       "\t<tr><td>Cagliari           </td><td>187                </td></tr>\n",
       "\t<tr><td>FC Bayern Munich   </td><td>184                </td></tr>\n",
       "\t<tr><td>Bayer 04 Leverkusen</td><td>183                </td></tr>\n",
       "\t<tr><td>Burnley            </td><td>183                </td></tr>\n",
       "\t<tr><td>SV Werder Bremen   </td><td>183                </td></tr>\n",
       "</tbody>\n",
       "</table>\n"
      ],
      "text/latex": [
       "\\begin{tabular}{r|ll}\n",
       " team\\_long\\_name & defence\\\\\n",
       "\\hline\n",
       "\t Odra Wodzislaw      & 205                \\\\\n",
       "\t KSV Roeselare       & 205                \\\\\n",
       "\t Falkirk             & 200                \\\\\n",
       "\t FC Barcelona        & 191                \\\\\n",
       "\t Lazio               & 190                \\\\\n",
       "\t Cagliari            & 187                \\\\\n",
       "\t FC Bayern Munich    & 184                \\\\\n",
       "\t Bayer 04 Leverkusen & 183                \\\\\n",
       "\t Burnley             & 183                \\\\\n",
       "\t SV Werder Bremen    & 183                \\\\\n",
       "\\end{tabular}\n"
      ],
      "text/markdown": [
       "\n",
       "team_long_name | defence | \n",
       "|---|---|---|---|---|---|---|---|---|---|\n",
       "| Odra Wodzislaw      | 205                 | \n",
       "| KSV Roeselare       | 205                 | \n",
       "| Falkirk             | 200                 | \n",
       "| FC Barcelona        | 191                 | \n",
       "| Lazio               | 190                 | \n",
       "| Cagliari            | 187                 | \n",
       "| FC Bayern Munich    | 184                 | \n",
       "| Bayer 04 Leverkusen | 183                 | \n",
       "| Burnley             | 183                 | \n",
       "| SV Werder Bremen    | 183                 | \n",
       "\n",
       "\n"
      ],
      "text/plain": [
       "   team_long_name      defence\n",
       "1  Odra Wodzislaw      205    \n",
       "2  KSV Roeselare       205    \n",
       "3  Falkirk             200    \n",
       "4  FC Barcelona        191    \n",
       "5  Lazio               190    \n",
       "6  Cagliari            187    \n",
       "7  FC Bayern Munich    184    \n",
       "8  Bayer 04 Leverkusen 183    \n",
       "9  Burnley             183    \n",
       "10 SV Werder Bremen    183    "
      ]
     },
     "metadata": {},
     "output_type": "display_data"
    }
   ],
   "source": [
    "sqldf(\"select team_long_name, defence from teams order by defence desc\")[1:10,]"
   ]
  },
  {
   "cell_type": "markdown",
   "metadata": {},
   "source": [
    " top 10 teams by number of scored goals"
   ]
  },
  {
   "cell_type": "code",
   "execution_count": 12,
   "metadata": {
    "collapsed": false
   },
   "outputs": [
    {
     "data": {
      "text/html": [
       "<table>\n",
       "<thead><tr><th scope=col>team_long_name</th><th scope=col>goals</th></tr></thead>\n",
       "<tbody>\n",
       "\t<tr><td>FC Barcelona     </td><td>849              </td></tr>\n",
       "\t<tr><td>Real Madrid CF   </td><td>843              </td></tr>\n",
       "\t<tr><td>Celtic           </td><td>695              </td></tr>\n",
       "\t<tr><td>FC Bayern Munich </td><td>653              </td></tr>\n",
       "\t<tr><td>PSV              </td><td>652              </td></tr>\n",
       "\t<tr><td>Ajax             </td><td>647              </td></tr>\n",
       "\t<tr><td>FC Basel         </td><td>619              </td></tr>\n",
       "\t<tr><td>Manchester City  </td><td>606              </td></tr>\n",
       "\t<tr><td>Chelsea          </td><td>583              </td></tr>\n",
       "\t<tr><td>Manchester United</td><td>582              </td></tr>\n",
       "</tbody>\n",
       "</table>\n"
      ],
      "text/latex": [
       "\\begin{tabular}{r|ll}\n",
       " team\\_long\\_name & goals\\\\\n",
       "\\hline\n",
       "\t FC Barcelona      & 849              \\\\\n",
       "\t Real Madrid CF    & 843              \\\\\n",
       "\t Celtic            & 695              \\\\\n",
       "\t FC Bayern Munich  & 653              \\\\\n",
       "\t PSV               & 652              \\\\\n",
       "\t Ajax              & 647              \\\\\n",
       "\t FC Basel          & 619              \\\\\n",
       "\t Manchester City   & 606              \\\\\n",
       "\t Chelsea           & 583              \\\\\n",
       "\t Manchester United & 582              \\\\\n",
       "\\end{tabular}\n"
      ],
      "text/markdown": [
       "\n",
       "team_long_name | goals | \n",
       "|---|---|---|---|---|---|---|---|---|---|\n",
       "| FC Barcelona      | 849               | \n",
       "| Real Madrid CF    | 843               | \n",
       "| Celtic            | 695               | \n",
       "| FC Bayern Munich  | 653               | \n",
       "| PSV               | 652               | \n",
       "| Ajax              | 647               | \n",
       "| FC Basel          | 619               | \n",
       "| Manchester City   | 606               | \n",
       "| Chelsea           | 583               | \n",
       "| Manchester United | 582               | \n",
       "\n",
       "\n"
      ],
      "text/plain": [
       "   team_long_name    goals\n",
       "1  FC Barcelona      849  \n",
       "2  Real Madrid CF    843  \n",
       "3  Celtic            695  \n",
       "4  FC Bayern Munich  653  \n",
       "5  PSV               652  \n",
       "6  Ajax              647  \n",
       "7  FC Basel          619  \n",
       "8  Manchester City   606  \n",
       "9  Chelsea           583  \n",
       "10 Manchester United 582  "
      ]
     },
     "metadata": {},
     "output_type": "display_data"
    }
   ],
   "source": [
    "sqldf(\"select team_long_name, goals from teams order by goals desc\")[1:10,]"
   ]
  },
  {
   "cell_type": "code",
   "execution_count": null,
   "metadata": {
    "collapsed": true
   },
   "outputs": [],
   "source": []
  }
 ],
 "metadata": {
  "anaconda-cloud": {},
  "kernelspec": {
   "display_name": "R",
   "language": "R",
   "name": "ir"
  },
  "language_info": {
   "codemirror_mode": "r",
   "file_extension": ".r",
   "mimetype": "text/x-r-source",
   "name": "R",
   "pygments_lexer": "r",
   "version": "3.3.2"
  }
 },
 "nbformat": 4,
 "nbformat_minor": 1
}
