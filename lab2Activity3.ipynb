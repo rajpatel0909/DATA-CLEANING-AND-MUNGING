{
 "cells": [
  {
   "cell_type": "markdown",
   "metadata": {},
   "source": [
    "Reading data from csv file"
   ]
  },
  {
   "cell_type": "code",
   "execution_count": 1,
   "metadata": {
    "collapsed": false
   },
   "outputs": [],
   "source": [
    "data <- read.csv(file=\"June 10-July 12, 2015 - Gaming, Jobs and Broadband - CSV.csv\",head=TRUE,sep=\",\")"
   ]
  },
  {
   "cell_type": "code",
   "execution_count": 2,
   "metadata": {
    "collapsed": false
   },
   "outputs": [
    {
     "name": "stderr",
     "output_type": "stream",
     "text": [
      "Loading required package: gsubfn\n",
      "Loading required package: proto\n",
      "Could not load tcltk.  Will use slower R code instead.\n",
      "Loading required package: RSQLite\n"
     ]
    }
   ],
   "source": [
    "library(sqldf)"
   ]
  },
  {
   "cell_type": "markdown",
   "metadata": {},
   "source": [
    "QUERY 1: For what purpose males and females mainly use their smart phones at different age"
   ]
  },
  {
   "cell_type": "code",
   "execution_count": 3,
   "metadata": {
    "collapsed": false
   },
   "outputs": [
    {
     "name": "stderr",
     "output_type": "stream",
     "text": [
      "Warning message:\n",
      "\"Quoted identifiers should have class SQL, use DBI::SQL() if the caller performs the quoting.\""
     ]
    }
   ],
   "source": [
    "q1dataMale <- sqldf(\"select age, q5a, q5b, q5c, q5d, q5e, q5f from data where sex=1 group by age \")"
   ]
  },
  {
   "cell_type": "code",
   "execution_count": 4,
   "metadata": {
    "collapsed": true
   },
   "outputs": [],
   "source": [
    "q1dataFemale <- sqldf(\"select age, q5a, q5b, q5c, q5d, q5e, q5f from data where sex=2 group by age \")"
   ]
  },
  {
   "cell_type": "code",
   "execution_count": 5,
   "metadata": {
    "collapsed": true
   },
   "outputs": [],
   "source": [
    "q1Male <- sqldf(\"select age, sum(q5a) as a, sum(q5b) as b, sum(q5c) as c, sum(q5d) as d, sum(q5e) as e, sum(q5f) as f from q1dataMale where age between 18 and 25\n",
    "        union\n",
    "        select age, sum(q5a) as a, sum(q5b) as b, sum(q5c) as c, sum(q5d) as d, sum(q5e) as e, sum(q5f) as f from q1dataMale where age between 26 and 35\n",
    "        union\n",
    "        select age, sum(q5a) as a, sum(q5b) as b, sum(q5c) as c, sum(q5d) as d, sum(q5e) as e, sum(q5f) as f from q1dataMale where age between 36 and 45\n",
    "        union\n",
    "        select age, sum(q5a) as a, sum(q5b) as b, sum(q5c) as c, sum(q5d) as d, sum(q5e) as e, sum(q5f) as f from q1dataMale where age between 46 and 55\n",
    "        union\n",
    "        select age, sum(q5a) as a, sum(q5b) as b, sum(q5c) as c, sum(q5d) as d, sum(q5e) as e, sum(q5f) as f from q1dataMale where age between 56 and 65\n",
    "        union\n",
    "        select age, sum(q5a) as a, sum(q5b) as b, sum(q5c) as c, sum(q5d) as d, sum(q5e) as e, sum(q5f) as f from q1dataMale where age between 66 and 75\n",
    "        union\n",
    "        select age, sum(q5a) as a, sum(q5b) as b, sum(q5c) as c, sum(q5d) as d, sum(q5e) as e, sum(q5f) as f from q1dataMale where age between 76 and 85\n",
    "        union\n",
    "        select age, sum(q5a) as a, sum(q5b) as b, sum(q5c) as c, sum(q5d) as d, sum(q5e) as e, sum(q5f) as f from q1dataMale where age between 86 and 99\")"
   ]
  },
  {
   "cell_type": "code",
   "execution_count": 6,
   "metadata": {
    "collapsed": true
   },
   "outputs": [],
   "source": [
    "q1Female <- sqldf(\"select age, sum(q5a) as a, sum(q5b) as b, sum(q5c) as c, sum(q5d) as d, sum(q5e) as e, sum(q5f) as f from q1dataFemale where age between 18 and 25\n",
    "        union\n",
    "        select age, sum(q5a) as a, sum(q5b) as b, sum(q5c) as c, sum(q5d) as d, sum(q5e) as e, sum(q5f) as f from q1dataFemale where age between 26 and 35\n",
    "        union\n",
    "        select age, sum(q5a) as a, sum(q5b) as b, sum(q5c) as c, sum(q5d) as d, sum(q5e) as e, sum(q5f) as f from q1dataFemale where age between 36 and 45\n",
    "        union\n",
    "        select age, sum(q5a) as a, sum(q5b) as b, sum(q5c) as c, sum(q5d) as d, sum(q5e) as e, sum(q5f) as f from q1dataFemale where age between 46 and 55\n",
    "        union\n",
    "        select age, sum(q5a) as a, sum(q5b) as b, sum(q5c) as c, sum(q5d) as d, sum(q5e) as e, sum(q5f) as f from q1dataFemale where age between 56 and 65\n",
    "        union\n",
    "        select age, sum(q5a) as a, sum(q5b) as b, sum(q5c) as c, sum(q5d) as d, sum(q5e) as e, sum(q5f) as f from q1dataFemale where age between 66 and 75\n",
    "        union\n",
    "        select age, sum(q5a) as a, sum(q5b) as b, sum(q5c) as c, sum(q5d) as d, sum(q5e) as e, sum(q5f) as f from q1dataFemale where age between 76 and 85\n",
    "        union\n",
    "        select age, sum(q5a) as a, sum(q5b) as b, sum(q5c) as c, sum(q5d) as d, sum(q5e) as e, sum(q5f) as f from q1dataFemale where age between 86 and 99\")"
   ]
  },
  {
   "cell_type": "code",
   "execution_count": 7,
   "metadata": {
    "collapsed": false
   },
   "outputs": [
    {
     "name": "stderr",
     "output_type": "stream",
     "text": [
      "Warning message:\n",
      "\"package 'reshape2' was built under R version 3.3.3\"Warning message:\n",
      "\"package 'ggplot2' was built under R version 3.3.3\""
     ]
    }
   ],
   "source": [
    "library(reshape2)\n",
    "library(ggplot2)"
   ]
  },
  {
   "cell_type": "code",
   "execution_count": 8,
   "metadata": {
    "collapsed": false
   },
   "outputs": [
    {
     "data": {
      "image/png": "[encoded data removed]",
      "text/plain": [
       "plot without title"
      ]
     },
     "metadata": {},
     "output_type": "display_data"
    },
    {
     "data": {
      "image/png": "[encoded data removed]",
      "text/plain": [
       "plot without title"
      ]
     },
     "metadata": {},
     "output_type": "display_data"
    }
   ],
   "source": [
    "par(oma=c(1,1,10,10), xpd = F, mar = par()$mar + c(0,0,0,7))\n",
    "plot(q1Male[[1]],q1Male[[2]], col = 'blue',pch = 16,xlab = 'age', ylab = 'value', bty='L', sub=\"MALE's distribution of usage of smartphones\")\n",
    "points(q1Male[[1]],q1Male[[3]], col = 'red', pch = 16)\n",
    "points(q1Male[[1]],q1Male[[4]], col = 'green', pch = 16)\n",
    "points(q1Male[[1]],q1Male[[5]], col = 'violet', pch = 16)\n",
    "points(q1Male[[1]],q1Male[[6]], col = 'orange', pch = 16)\n",
    "points(q1Male[[1]],q1Male[[6]], col = 'pink', pch = 16)\n",
    "par(xpd=TRUE)\n",
    "legend(120,12, inset=c(0,-0.5), legend = c(\"video\",\"buy\",\"map\",\"sports\",\"tv\",\"music\"), col = c(\"blue\", \"red\",\"green\",\"violet\",\"orange\",\"pink\"),pch = 16)\n",
    "\n",
    "\n",
    "par(oma=c(1,1,10,5), xpd = F, mar = par()$mar + c(0,0,0,7))\n",
    "plot(q1Female[[1]],q1Female[[2]], col = 'blue',pch = 16,xlab = 'age', ylab = 'value', bty='L', sub=\"FEMALE's distribution of usage of smartphones\")\n",
    "points(q1Female[[1]],q1Female[[3]], col = 'red', pch = 16)\n",
    "points(q1Female[[1]],q1Female[[4]], col = 'green', pch = 16)\n",
    "points(q1Female[[1]],q1Female[[5]], col = 'violet', pch = 16)\n",
    "points(q1Female[[1]],q1Female[[6]], col = 'orange', pch = 16)\n",
    "points(q1Female[[1]],q1Female[[6]], col = 'pink', pch = 16)\n",
    "par(xpd=TRUE)\n",
    "legend(120,12, inset=c(0,-0.5), legend = c(\"video\",\"buy\",\"map\",\"sports\",\"tv\",\"music\"), col = c(\"blue\", \"red\",\"green\",\"violet\",\"orange\",\"pink\"),pch = 16)"
   ]
  },
  {
   "cell_type": "markdown",
   "metadata": {},
   "source": [
    "As we can see above male mostly use smartphones for video and female mostly use it for music\n",
    "Also it is visible that male's usage of smartphone decreases with age and female's usage increases with age"
   ]
  },
  {
   "cell_type": "markdown",
   "metadata": {},
   "source": [
    "QUERY 2: How many kids most of the people tends to have according to their family's annual income"
   ]
  },
  {
   "cell_type": "code",
   "execution_count": 9,
   "metadata": {
    "collapsed": true
   },
   "outputs": [],
   "source": [
    "q2Data <- sqldf(\"select INC, (KidAge1 + KidAge2 + KidAge3) as kids from data where KidAge1 < 8 and KidAge2 < 8 and KidAge3 < 8 group by INC \")"
   ]
  },
  {
   "cell_type": "code",
   "execution_count": 10,
   "metadata": {
    "collapsed": false
   },
   "outputs": [
    {
     "data": {
      "text/html": [
       "<table>\n",
       "<thead><tr><th scope=col>inc</th><th scope=col>kids</th></tr></thead>\n",
       "<tbody>\n",
       "\t<tr><td> 1</td><td>3 </td></tr>\n",
       "\t<tr><td> 2</td><td>1 </td></tr>\n",
       "\t<tr><td> 3</td><td>3 </td></tr>\n",
       "\t<tr><td> 4</td><td>1 </td></tr>\n",
       "\t<tr><td> 5</td><td>1 </td></tr>\n",
       "\t<tr><td> 6</td><td>2 </td></tr>\n",
       "\t<tr><td> 7</td><td>3 </td></tr>\n",
       "\t<tr><td> 8</td><td>2 </td></tr>\n",
       "\t<tr><td> 9</td><td>3 </td></tr>\n",
       "\t<tr><td>98</td><td>1 </td></tr>\n",
       "\t<tr><td>99</td><td>1 </td></tr>\n",
       "</tbody>\n",
       "</table>\n"
      ],
      "text/latex": [
       "\\begin{tabular}{r|ll}\n",
       " inc & kids\\\\\n",
       "\\hline\n",
       "\t  1 & 3 \\\\\n",
       "\t  2 & 1 \\\\\n",
       "\t  3 & 3 \\\\\n",
       "\t  4 & 1 \\\\\n",
       "\t  5 & 1 \\\\\n",
       "\t  6 & 2 \\\\\n",
       "\t  7 & 3 \\\\\n",
       "\t  8 & 2 \\\\\n",
       "\t  9 & 3 \\\\\n",
       "\t 98 & 1 \\\\\n",
       "\t 99 & 1 \\\\\n",
       "\\end{tabular}\n"
      ],
      "text/markdown": [
       "\n",
       "inc | kids | \n",
       "|---|---|---|---|---|---|---|---|---|---|---|\n",
       "|  1 | 3  | \n",
       "|  2 | 1  | \n",
       "|  3 | 3  | \n",
       "|  4 | 1  | \n",
       "|  5 | 1  | \n",
       "|  6 | 2  | \n",
       "|  7 | 3  | \n",
       "|  8 | 2  | \n",
       "|  9 | 3  | \n",
       "| 98 | 1  | \n",
       "| 99 | 1  | \n",
       "\n",
       "\n"
      ],
      "text/plain": [
       "   inc kids\n",
       "1   1  3   \n",
       "2   2  1   \n",
       "3   3  3   \n",
       "4   4  1   \n",
       "5   5  1   \n",
       "6   6  2   \n",
       "7   7  3   \n",
       "8   8  2   \n",
       "9   9  3   \n",
       "10 98  1   \n",
       "11 99  1   "
      ]
     },
     "metadata": {},
     "output_type": "display_data"
    }
   ],
   "source": [
    "q2Data"
   ]
  },
  {
   "cell_type": "code",
   "execution_count": 11,
   "metadata": {
    "collapsed": true
   },
   "outputs": [],
   "source": [
    "q2Data[[1]] <- c(\"$<10k\",\"$10k-20k\",\"$20k-30k\",\"$30k-40k\",\"$40k-50k\",\"$50k-75k\",\"$75k-100k\",\"$100k-150k\",\"150k\",\"don't know\",\"refused\")"
   ]
  },
  {
   "cell_type": "code",
   "execution_count": 12,
   "metadata": {
    "collapsed": false
   },
   "outputs": [
    {
     "data": {
      "text/html": [
       "<table>\n",
       "<thead><tr><th scope=col>inc</th><th scope=col>kids</th></tr></thead>\n",
       "<tbody>\n",
       "\t<tr><td><span style=white-space:pre-wrap>$&lt;10k     </span></td><td>3                                                    </td></tr>\n",
       "\t<tr><td>$10k-20k  </td><td>1         </td></tr>\n",
       "\t<tr><td>$20k-30k  </td><td>3         </td></tr>\n",
       "\t<tr><td>$30k-40k  </td><td>1         </td></tr>\n",
       "\t<tr><td>$40k-50k  </td><td>1         </td></tr>\n",
       "\t<tr><td>$50k-75k  </td><td>2         </td></tr>\n",
       "\t<tr><td>$75k-100k </td><td>3         </td></tr>\n",
       "\t<tr><td>$100k-150k</td><td>2         </td></tr>\n",
       "\t<tr><td>150k      </td><td>3         </td></tr>\n",
       "\t<tr><td>don't know</td><td>1         </td></tr>\n",
       "\t<tr><td>refused   </td><td>1         </td></tr>\n",
       "</tbody>\n",
       "</table>\n"
      ],
      "text/latex": [
       "\\begin{tabular}{r|ll}\n",
       " inc & kids\\\\\n",
       "\\hline\n",
       "\t \\$<10k      & 3           \\\\\n",
       "\t \\$10k-20k   & 1           \\\\\n",
       "\t \\$20k-30k   & 3           \\\\\n",
       "\t \\$30k-40k   & 1           \\\\\n",
       "\t \\$40k-50k   & 1           \\\\\n",
       "\t \\$50k-75k   & 2           \\\\\n",
       "\t \\$75k-100k  & 3           \\\\\n",
       "\t \\$100k-150k & 2           \\\\\n",
       "\t 150k       & 3         \\\\\n",
       "\t don't know & 1         \\\\\n",
       "\t refused    & 1         \\\\\n",
       "\\end{tabular}\n"
      ],
      "text/markdown": [
       "\n",
       "inc | kids | \n",
       "|---|---|---|---|---|---|---|---|---|---|---|\n",
       "| $<10k      | 3          | \n",
       "| $10k-20k   | 1          | \n",
       "| $20k-30k   | 3          | \n",
       "| $30k-40k   | 1          | \n",
       "| $40k-50k   | 1          | \n",
       "| $50k-75k   | 2          | \n",
       "| $75k-100k  | 3          | \n",
       "| $100k-150k | 2          | \n",
       "| 150k       | 3          | \n",
       "| don't know | 1          | \n",
       "| refused    | 1          | \n",
       "\n",
       "\n"
      ],
      "text/plain": [
       "   inc        kids\n",
       "1  $<10k      3   \n",
       "2  $10k-20k   1   \n",
       "3  $20k-30k   3   \n",
       "4  $30k-40k   1   \n",
       "5  $40k-50k   1   \n",
       "6  $50k-75k   2   \n",
       "7  $75k-100k  3   \n",
       "8  $100k-150k 2   \n",
       "9  150k       3   \n",
       "10 don't know 1   \n",
       "11 refused    1   "
      ]
     },
     "metadata": {},
     "output_type": "display_data"
    }
   ],
   "source": [
    "q2Data"
   ]
  },
  {
   "cell_type": "code",
   "execution_count": 13,
   "metadata": {
    "collapsed": false
   },
   "outputs": [],
   "source": [
    "q2plot <- melt(q2Data, id.vars=\"inc\")"
   ]
  },
  {
   "cell_type": "code",
   "execution_count": 14,
   "metadata": {
    "collapsed": false
   },
   "outputs": [
    {
     "data": {
      "text/html": [
       "<table>\n",
       "<thead><tr><th scope=col>inc</th><th scope=col>variable</th><th scope=col>value</th></tr></thead>\n",
       "<tbody>\n",
       "\t<tr><td><span style=white-space:pre-wrap>$&lt;10k     </span></td><td>kids                                                 </td><td>3                                                    </td></tr>\n",
       "\t<tr><td>$10k-20k  </td><td>kids      </td><td>1         </td></tr>\n",
       "\t<tr><td>$20k-30k  </td><td>kids      </td><td>3         </td></tr>\n",
       "\t<tr><td>$30k-40k  </td><td>kids      </td><td>1         </td></tr>\n",
       "\t<tr><td>$40k-50k  </td><td>kids      </td><td>1         </td></tr>\n",
       "\t<tr><td>$50k-75k  </td><td>kids      </td><td>2         </td></tr>\n",
       "\t<tr><td>$75k-100k </td><td>kids      </td><td>3         </td></tr>\n",
       "\t<tr><td>$100k-150k</td><td>kids      </td><td>2         </td></tr>\n",
       "\t<tr><td>150k      </td><td>kids      </td><td>3         </td></tr>\n",
       "\t<tr><td>don't know</td><td>kids      </td><td>1         </td></tr>\n",
       "\t<tr><td>refused   </td><td>kids      </td><td>1         </td></tr>\n",
       "</tbody>\n",
       "</table>\n"
      ],
      "text/latex": [
       "\\begin{tabular}{r|lll}\n",
       " inc & variable & value\\\\\n",
       "\\hline\n",
       "\t \\$<10k      & kids         & 3           \\\\\n",
       "\t \\$10k-20k   & kids         & 1           \\\\\n",
       "\t \\$20k-30k   & kids         & 3           \\\\\n",
       "\t \\$30k-40k   & kids         & 1           \\\\\n",
       "\t \\$40k-50k   & kids         & 1           \\\\\n",
       "\t \\$50k-75k   & kids         & 2           \\\\\n",
       "\t \\$75k-100k  & kids         & 3           \\\\\n",
       "\t \\$100k-150k & kids         & 2           \\\\\n",
       "\t 150k       & kids       & 3         \\\\\n",
       "\t don't know & kids       & 1         \\\\\n",
       "\t refused    & kids       & 1         \\\\\n",
       "\\end{tabular}\n"
      ],
      "text/markdown": [
       "\n",
       "inc | variable | value | \n",
       "|---|---|---|---|---|---|---|---|---|---|---|\n",
       "| $<10k      | kids       | 3          | \n",
       "| $10k-20k   | kids       | 1          | \n",
       "| $20k-30k   | kids       | 3          | \n",
       "| $30k-40k   | kids       | 1          | \n",
       "| $40k-50k   | kids       | 1          | \n",
       "| $50k-75k   | kids       | 2          | \n",
       "| $75k-100k  | kids       | 3          | \n",
       "| $100k-150k | kids       | 2          | \n",
       "| 150k       | kids       | 3          | \n",
       "| don't know | kids       | 1          | \n",
       "| refused    | kids       | 1          | \n",
       "\n",
       "\n"
      ],
      "text/plain": [
       "   inc        variable value\n",
       "1  $<10k      kids     3    \n",
       "2  $10k-20k   kids     1    \n",
       "3  $20k-30k   kids     3    \n",
       "4  $30k-40k   kids     1    \n",
       "5  $40k-50k   kids     1    \n",
       "6  $50k-75k   kids     2    \n",
       "7  $75k-100k  kids     3    \n",
       "8  $100k-150k kids     2    \n",
       "9  150k       kids     3    \n",
       "10 don't know kids     1    \n",
       "11 refused    kids     1    "
      ]
     },
     "metadata": {},
     "output_type": "display_data"
    }
   ],
   "source": [
    "q2plot"
   ]
  },
  {
   "cell_type": "code",
   "execution_count": 15,
   "metadata": {
    "collapsed": false
   },
   "outputs": [
    {
     "name": "stderr",
     "output_type": "stream",
     "text": [
      "Warning message:\n",
      "\"Ignoring unknown parameters: binwidth, bins, pad\""
     ]
    },
    {
     "data": {},
     "metadata": {},
     "output_type": "display_data"
    },
    {
     "data": {
      "image/png": "[encoded data removed]",
      "text/plain": [
       "plot without title"
      ]
     },
     "metadata": {},
     "output_type": "display_data"
    }
   ],
   "source": [
    "ggplot(q2plot, aes(x=inc,y=value))+ geom_histogram(stat=\"identity\",position=\"dodge\")"
   ]
  },
  {
   "cell_type": "markdown",
   "metadata": {},
   "source": [
    "It can be infered that mostly people with income less than $$10k and people with stable income $>75k mostly have 3 kids otherwise usually people have 2 or less kids"
   ]
  },
  {
   "cell_type": "markdown",
   "metadata": {},
   "source": [
    "QUERY 3: which party is mostly supported by each race"
   ]
  },
  {
   "cell_type": "code",
   "execution_count": 16,
   "metadata": {
    "collapsed": false
   },
   "outputs": [],
   "source": [
    "q3Data <- sqldf(\"select RACE, PARTY from data group by race\")"
   ]
  },
  {
   "cell_type": "markdown",
   "metadata": {},
   "source": [
    "PARTY\n",
    "1\tRepublican\n",
    "2\tDemocrat\n",
    "3\tIndependent\n",
    "4\t(VOL.) No preference\n",
    "5\t(VOL.) Other party\n",
    "8\t(VOL.) Don't know\n",
    "9\t(VOL.) Refused\n",
    "\n",
    "RACE\n",
    "1\tWhite\n",
    "2\tBlack or African-American\n",
    "3\tAsian or Pacific Islander\n",
    "4\tMixed race\n",
    "5\tNative American/American Indian\n",
    "6\tOther (SPECIFY)\n",
    "8\t(VOL.) Don't know\n",
    "9\t(VOL.) Refused\n"
   ]
  },
  {
   "cell_type": "code",
   "execution_count": 17,
   "metadata": {
    "collapsed": false
   },
   "outputs": [],
   "source": [
    "q3Data[[1]] <- c(\"White\", \"Black/African\", \"Asian\", \"Mixed\", \"Native American\", \"other\", \"dont'know\", \"refused\")"
   ]
  },
  {
   "cell_type": "code",
   "execution_count": 18,
   "metadata": {
    "collapsed": false
   },
   "outputs": [
    {
     "data": {
      "text/html": [
       "<table>\n",
       "<thead><tr><th scope=col>race</th><th scope=col>party</th></tr></thead>\n",
       "<tbody>\n",
       "\t<tr><td>White          </td><td>1              </td></tr>\n",
       "\t<tr><td>Black/African  </td><td>1              </td></tr>\n",
       "\t<tr><td>Asian          </td><td>1              </td></tr>\n",
       "\t<tr><td>Mixed          </td><td>3              </td></tr>\n",
       "\t<tr><td>Native American</td><td>3              </td></tr>\n",
       "\t<tr><td>other          </td><td>2              </td></tr>\n",
       "\t<tr><td>dont'know      </td><td>3              </td></tr>\n",
       "\t<tr><td>refused        </td><td>3              </td></tr>\n",
       "</tbody>\n",
       "</table>\n"
      ],
      "text/latex": [
       "\\begin{tabular}{r|ll}\n",
       " race & party\\\\\n",
       "\\hline\n",
       "\t White           & 1              \\\\\n",
       "\t Black/African   & 1              \\\\\n",
       "\t Asian           & 1              \\\\\n",
       "\t Mixed           & 3              \\\\\n",
       "\t Native American & 3              \\\\\n",
       "\t other           & 2              \\\\\n",
       "\t dont'know       & 3              \\\\\n",
       "\t refused         & 3              \\\\\n",
       "\\end{tabular}\n"
      ],
      "text/markdown": [
       "\n",
       "race | party | \n",
       "|---|---|---|---|---|---|---|---|\n",
       "| White           | 1               | \n",
       "| Black/African   | 1               | \n",
       "| Asian           | 1               | \n",
       "| Mixed           | 3               | \n",
       "| Native American | 3               | \n",
       "| other           | 2               | \n",
       "| dont'know       | 3               | \n",
       "| refused         | 3               | \n",
       "\n",
       "\n"
      ],
      "text/plain": [
       "  race            party\n",
       "1 White           1    \n",
       "2 Black/African   1    \n",
       "3 Asian           1    \n",
       "4 Mixed           3    \n",
       "5 Native American 3    \n",
       "6 other           2    \n",
       "7 dont'know       3    \n",
       "8 refused         3    "
      ]
     },
     "metadata": {},
     "output_type": "display_data"
    }
   ],
   "source": [
    "q3Data"
   ]
  },
  {
   "cell_type": "code",
   "execution_count": 19,
   "metadata": {
    "collapsed": false
   },
   "outputs": [],
   "source": [
    "labelsx=c(\"White\", \"Black\\nAfrican\", \"Asian\", \"Mixed\", \"Native\\nAmerican\", \"other\", \"dont'know\", \"refused\")"
   ]
  },
  {
   "cell_type": "code",
   "execution_count": 20,
   "metadata": {
    "collapsed": true
   },
   "outputs": [],
   "source": [
    "labelsy=c(\"Republican\", \"Democrat\",\"Independent\",\"No preference\",\"Other party\",\"Don't know\",\"Refused\")"
   ]
  },
  {
   "cell_type": "code",
   "execution_count": 21,
   "metadata": {
    "collapsed": false
   },
   "outputs": [
    {
     "data": {
      "text/html": [
       "'character'"
      ],
      "text/latex": [
       "'character'"
      ],
      "text/markdown": [
       "'character'"
      ],
      "text/plain": [
       "[1] \"character\""
      ]
     },
     "metadata": {},
     "output_type": "display_data"
    }
   ],
   "source": [
    "typeof(labelsx)"
   ]
  },
  {
   "cell_type": "code",
   "execution_count": 22,
   "metadata": {
    "collapsed": false,
    "scrolled": false
   },
   "outputs": [
    {
     "name": "stderr",
     "output_type": "stream",
     "text": [
      "Warning message in plot.window(...):\n",
      "\"\"labels\" is not a graphical parameter\"Warning message in plot.xy(xy, type, ...):\n",
      "\"\"labels\" is not a graphical parameter\"Warning message in box(...):\n",
      "\"\"labels\" is not a graphical parameter\"Warning message in title(...):\n",
      "\"\"labels\" is not a graphical parameter\""
     ]
    },
    {
     "data": {
      "image/png": "[encoded data removed]",
      "text/plain": [
       "Plot with title \"Political Party supported by different race\""
      ]
     },
     "metadata": {},
     "output_type": "display_data"
    }
   ],
   "source": [
    "plot(q3Data[[2]], xlab = \"Race\\nCatogory\", ylab = \"Party Supported\", main=\"Political Party supported by different race\", labels=FALSE)\n",
    "#axis(1, at=1:8, labels=c(\"White\", \"BlackAfrican\", \"Asian\", \"Mixed\", \"Native American\", \"other\", \"dont'know\", \"refused\"))\n",
    "axis(2)\n",
    "axis(1, at=seq_along(q3Data[[2]]),labelsx, las=2)\n",
    "text(1.5,2.75, labels = c(\"1:Republican\\n2:Democrat\\n3:Independent\\n4:No preference\\n5:Other party\\n6:Don't know\\n7:Refused\"))"
   ]
  },
  {
   "cell_type": "markdown",
   "metadata": {},
   "source": [
    "From above plot it can be said that most of white, Black/African and Asians supports Republican AND type of peoples are mostly independent"
   ]
  },
  {
   "cell_type": "markdown",
   "metadata": {},
   "source": [
    "QUERY 4: How much people use smartphones and internet for dating at different ages"
   ]
  },
  {
   "cell_type": "code",
   "execution_count": 23,
   "metadata": {
    "collapsed": true
   },
   "outputs": [],
   "source": [
    "q4Data1 <- sqldf(\"select age, count(DATE1a) as internet from data where DATE1a=1 group by age\")"
   ]
  },
  {
   "cell_type": "code",
   "execution_count": 24,
   "metadata": {
    "collapsed": true
   },
   "outputs": [],
   "source": [
    "q4Data2 <- sqldf(\"select age, count(DATE2a) as smart from data where DATE2a=1 group by age\")"
   ]
  },
  {
   "cell_type": "code",
   "execution_count": 25,
   "metadata": {
    "collapsed": false
   },
   "outputs": [],
   "source": [
    "q4Data <- sqldf(\"select q4Data1.age, q4Data1.internet, q4Data2.smart from q4Data1 join q4Data2 on q4Data1.age=q4Data2.age\")"
   ]
  },
  {
   "cell_type": "code",
   "execution_count": 26,
   "metadata": {
    "collapsed": false
   },
   "outputs": [],
   "source": [
    "q4Data <- sqldf(\"select age, sum(internet) as internet, sum(smart) as smartPhone from q4Data where age between 18 and 25\n",
    "        union\n",
    "        select age, sum(internet) as internet, sum(smart) as smartPhone from q4Data where age between 26 and 35\n",
    "        union\n",
    "        select age, sum(internet) as internet, sum(smart) as smartPhone from q4Data where age between 36 and 45\n",
    "        union\n",
    "        select age, sum(internet) as internet, sum(smart) as smartPhone from q4Data where age between 46 and 55\n",
    "        union\n",
    "        select age, sum(internet) as internet, sum(smart) as smartPhone from q4Data where age between 56 and 65\n",
    "        union\n",
    "        select age, sum(internet) as internet, sum(smart) as smartPhone from q4Data where age between 66 and 75\n",
    "        union\n",
    "        select age, sum(internet) as internet, sum(smart) as smartPhone from q4Data where age between 76 and 85\n",
    "        union\n",
    "        select age, sum(internet) as internet, sum(smart) as smartPhone from q4Data where age between 86 and 99\")"
   ]
  },
  {
   "cell_type": "code",
   "execution_count": 27,
   "metadata": {
    "collapsed": false
   },
   "outputs": [
    {
     "data": {
      "text/html": [
       "<table>\n",
       "<thead><tr><th scope=col>age</th><th scope=col>internet</th><th scope=col>smartPhone</th></tr></thead>\n",
       "<tbody>\n",
       "\t<tr><td>NA</td><td>NA</td><td>NA</td></tr>\n",
       "\t<tr><td>25</td><td>38</td><td>47</td></tr>\n",
       "\t<tr><td>35</td><td>50</td><td>31</td></tr>\n",
       "\t<tr><td>45</td><td>44</td><td>25</td></tr>\n",
       "\t<tr><td>53</td><td>26</td><td>15</td></tr>\n",
       "\t<tr><td>65</td><td>33</td><td>15</td></tr>\n",
       "\t<tr><td>70</td><td> 6</td><td> 2</td></tr>\n",
       "\t<tr><td>98</td><td> 1</td><td> 1</td></tr>\n",
       "</tbody>\n",
       "</table>\n"
      ],
      "text/latex": [
       "\\begin{tabular}{r|lll}\n",
       " age & internet & smartPhone\\\\\n",
       "\\hline\n",
       "\t NA & NA & NA\\\\\n",
       "\t 25 & 38 & 47\\\\\n",
       "\t 35 & 50 & 31\\\\\n",
       "\t 45 & 44 & 25\\\\\n",
       "\t 53 & 26 & 15\\\\\n",
       "\t 65 & 33 & 15\\\\\n",
       "\t 70 &  6 &  2\\\\\n",
       "\t 98 &  1 &  1\\\\\n",
       "\\end{tabular}\n"
      ],
      "text/markdown": [
       "\n",
       "age | internet | smartPhone | \n",
       "|---|---|---|---|---|---|---|---|\n",
       "| NA | NA | NA | \n",
       "| 25 | 38 | 47 | \n",
       "| 35 | 50 | 31 | \n",
       "| 45 | 44 | 25 | \n",
       "| 53 | 26 | 15 | \n",
       "| 65 | 33 | 15 | \n",
       "| 70 |  6 |  2 | \n",
       "| 98 |  1 |  1 | \n",
       "\n",
       "\n"
      ],
      "text/plain": [
       "  age internet smartPhone\n",
       "1 NA  NA       NA        \n",
       "2 25  38       47        \n",
       "3 35  50       31        \n",
       "4 45  44       25        \n",
       "5 53  26       15        \n",
       "6 65  33       15        \n",
       "7 70   6        2        \n",
       "8 98   1        1        "
      ]
     },
     "metadata": {},
     "output_type": "display_data"
    }
   ],
   "source": [
    "q4Data"
   ]
  },
  {
   "cell_type": "code",
   "execution_count": 28,
   "metadata": {
    "collapsed": false
   },
   "outputs": [],
   "source": [
    "q4Data <- na.omit(q4Data)"
   ]
  },
  {
   "cell_type": "code",
   "execution_count": 29,
   "metadata": {
    "collapsed": false
   },
   "outputs": [
    {
     "data": {
      "text/html": [
       "<table>\n",
       "<thead><tr><th></th><th scope=col>age</th><th scope=col>internet</th><th scope=col>smartPhone</th></tr></thead>\n",
       "<tbody>\n",
       "\t<tr><th scope=row>2</th><td>25</td><td>38</td><td>47</td></tr>\n",
       "\t<tr><th scope=row>3</th><td>35</td><td>50</td><td>31</td></tr>\n",
       "\t<tr><th scope=row>4</th><td>45</td><td>44</td><td>25</td></tr>\n",
       "\t<tr><th scope=row>5</th><td>53</td><td>26</td><td>15</td></tr>\n",
       "\t<tr><th scope=row>6</th><td>65</td><td>33</td><td>15</td></tr>\n",
       "\t<tr><th scope=row>7</th><td>70</td><td> 6</td><td> 2</td></tr>\n",
       "\t<tr><th scope=row>8</th><td>98</td><td> 1</td><td> 1</td></tr>\n",
       "</tbody>\n",
       "</table>\n"
      ],
      "text/latex": [
       "\\begin{tabular}{r|lll}\n",
       "  & age & internet & smartPhone\\\\\n",
       "\\hline\n",
       "\t2 & 25 & 38 & 47\\\\\n",
       "\t3 & 35 & 50 & 31\\\\\n",
       "\t4 & 45 & 44 & 25\\\\\n",
       "\t5 & 53 & 26 & 15\\\\\n",
       "\t6 & 65 & 33 & 15\\\\\n",
       "\t7 & 70 &  6 &  2\\\\\n",
       "\t8 & 98 &  1 &  1\\\\\n",
       "\\end{tabular}\n"
      ],
      "text/markdown": [
       "\n",
       "| <!--/--> | age | internet | smartPhone | \n",
       "|---|---|---|---|---|---|---|\n",
       "| 2 | 25 | 38 | 47 | \n",
       "| 3 | 35 | 50 | 31 | \n",
       "| 4 | 45 | 44 | 25 | \n",
       "| 5 | 53 | 26 | 15 | \n",
       "| 6 | 65 | 33 | 15 | \n",
       "| 7 | 70 |  6 |  2 | \n",
       "| 8 | 98 |  1 |  1 | \n",
       "\n",
       "\n"
      ],
      "text/plain": [
       "  age internet smartPhone\n",
       "2 25  38       47        \n",
       "3 35  50       31        \n",
       "4 45  44       25        \n",
       "5 53  26       15        \n",
       "6 65  33       15        \n",
       "7 70   6        2        \n",
       "8 98   1        1        "
      ]
     },
     "metadata": {},
     "output_type": "display_data"
    }
   ],
   "source": [
    "q4Data"
   ]
  },
  {
   "cell_type": "code",
   "execution_count": 30,
   "metadata": {
    "collapsed": true
   },
   "outputs": [],
   "source": [
    "q4plot <- melt(q4Data, id.vars=\"age\")"
   ]
  },
  {
   "cell_type": "code",
   "execution_count": 31,
   "metadata": {
    "collapsed": true
   },
   "outputs": [],
   "source": [
    "names(q4plot)=c(\"age\",\"device\",\"users\")"
   ]
  },
  {
   "cell_type": "code",
   "execution_count": 32,
   "metadata": {
    "collapsed": false
   },
   "outputs": [
    {
     "data": {
      "text/html": [
       "<table>\n",
       "<thead><tr><th scope=col>age</th><th scope=col>device</th><th scope=col>users</th></tr></thead>\n",
       "<tbody>\n",
       "\t<tr><td>25        </td><td>internet  </td><td>38        </td></tr>\n",
       "\t<tr><td>35        </td><td>internet  </td><td>50        </td></tr>\n",
       "\t<tr><td>45        </td><td>internet  </td><td>44        </td></tr>\n",
       "\t<tr><td>53        </td><td>internet  </td><td>26        </td></tr>\n",
       "\t<tr><td>65        </td><td>internet  </td><td>33        </td></tr>\n",
       "\t<tr><td>70        </td><td>internet  </td><td> 6        </td></tr>\n",
       "\t<tr><td>98        </td><td>internet  </td><td> 1        </td></tr>\n",
       "\t<tr><td>25        </td><td>smartPhone</td><td>47        </td></tr>\n",
       "\t<tr><td>35        </td><td>smartPhone</td><td>31        </td></tr>\n",
       "\t<tr><td>45        </td><td>smartPhone</td><td>25        </td></tr>\n",
       "\t<tr><td>53        </td><td>smartPhone</td><td>15        </td></tr>\n",
       "\t<tr><td>65        </td><td>smartPhone</td><td>15        </td></tr>\n",
       "\t<tr><td>70        </td><td>smartPhone</td><td> 2        </td></tr>\n",
       "\t<tr><td>98        </td><td>smartPhone</td><td> 1        </td></tr>\n",
       "</tbody>\n",
       "</table>\n"
      ],
      "text/latex": [
       "\\begin{tabular}{r|lll}\n",
       " age & device & users\\\\\n",
       "\\hline\n",
       "\t 25         & internet   & 38        \\\\\n",
       "\t 35         & internet   & 50        \\\\\n",
       "\t 45         & internet   & 44        \\\\\n",
       "\t 53         & internet   & 26        \\\\\n",
       "\t 65         & internet   & 33        \\\\\n",
       "\t 70         & internet   &  6        \\\\\n",
       "\t 98         & internet   &  1        \\\\\n",
       "\t 25         & smartPhone & 47        \\\\\n",
       "\t 35         & smartPhone & 31        \\\\\n",
       "\t 45         & smartPhone & 25        \\\\\n",
       "\t 53         & smartPhone & 15        \\\\\n",
       "\t 65         & smartPhone & 15        \\\\\n",
       "\t 70         & smartPhone &  2        \\\\\n",
       "\t 98         & smartPhone &  1        \\\\\n",
       "\\end{tabular}\n"
      ],
      "text/markdown": [
       "\n",
       "age | device | users | \n",
       "|---|---|---|---|---|---|---|---|---|---|---|---|---|---|\n",
       "| 25         | internet   | 38         | \n",
       "| 35         | internet   | 50         | \n",
       "| 45         | internet   | 44         | \n",
       "| 53         | internet   | 26         | \n",
       "| 65         | internet   | 33         | \n",
       "| 70         | internet   |  6         | \n",
       "| 98         | internet   |  1         | \n",
       "| 25         | smartPhone | 47         | \n",
       "| 35         | smartPhone | 31         | \n",
       "| 45         | smartPhone | 25         | \n",
       "| 53         | smartPhone | 15         | \n",
       "| 65         | smartPhone | 15         | \n",
       "| 70         | smartPhone |  2         | \n",
       "| 98         | smartPhone |  1         | \n",
       "\n",
       "\n"
      ],
      "text/plain": [
       "   age device     users\n",
       "1  25  internet   38   \n",
       "2  35  internet   50   \n",
       "3  45  internet   44   \n",
       "4  53  internet   26   \n",
       "5  65  internet   33   \n",
       "6  70  internet    6   \n",
       "7  98  internet    1   \n",
       "8  25  smartPhone 47   \n",
       "9  35  smartPhone 31   \n",
       "10 45  smartPhone 25   \n",
       "11 53  smartPhone 15   \n",
       "12 65  smartPhone 15   \n",
       "13 70  smartPhone  2   \n",
       "14 98  smartPhone  1   "
      ]
     },
     "metadata": {},
     "output_type": "display_data"
    }
   ],
   "source": [
    "q4plot"
   ]
  },
  {
   "cell_type": "code",
   "execution_count": 33,
   "metadata": {
    "collapsed": true
   },
   "outputs": [],
   "source": [
    "library(ggplot2)"
   ]
  },
  {
   "cell_type": "code",
   "execution_count": 34,
   "metadata": {
    "collapsed": false
   },
   "outputs": [
    {
     "name": "stderr",
     "output_type": "stream",
     "text": [
      "Warning message:\n",
      "\"Ignoring unknown parameters: binwidth, bins, pad\""
     ]
    },
    {
     "data": {},
     "metadata": {},
     "output_type": "display_data"
    },
    {
     "data": {
      "image/png": "[encoded data removed]",
      "text/plain": [
       "plot without title"
      ]
     },
     "metadata": {},
     "output_type": "display_data"
    }
   ],
   "source": [
    "ggplot(q4plot, aes(x=age,y=users,fill=substring(device,2)))+ geom_histogram(stat=\"identity\",position=\"dodge\")"
   ]
  },
  {
   "cell_type": "markdown",
   "metadata": {},
   "source": [
    "According to above graph people at age between 20 to 30 uses mobile for dating and for rest of ages they tend to use internet. AND also with increase in age tendency of dating decreases"
   ]
  },
  {
   "cell_type": "markdown",
   "metadata": {},
   "source": [
    "QUERY 5: How much labors is their in each type of jobs"
   ]
  },
  {
   "cell_type": "code",
   "execution_count": 35,
   "metadata": {
    "collapsed": true
   },
   "outputs": [],
   "source": [
    "q5Data <- sqldf(\"select EMPTYPE1 as empType, count(EMPTYPE2) as labors from data where EMPTYPE2=1 group by EMPTYPE1\")"
   ]
  },
  {
   "cell_type": "code",
   "execution_count": 36,
   "metadata": {
    "collapsed": false
   },
   "outputs": [],
   "source": [
    "q5Data <- q5Data[-c(9), ]"
   ]
  },
  {
   "cell_type": "code",
   "execution_count": 37,
   "metadata": {
    "collapsed": false
   },
   "outputs": [],
   "source": [
    "q5plot <- melt(q5Data, id.vars=\"empType\")"
   ]
  },
  {
   "cell_type": "code",
   "execution_count": 38,
   "metadata": {
    "collapsed": true
   },
   "outputs": [],
   "source": [
    "q5plot[[1]] <- c(\"large\\ncorporation\",\"medium\\ncompany\",\"small\\nbussiness\",\"government\",\"educational\",\"nonprofit\",\"other\",\"self\\nemployed\")"
   ]
  },
  {
   "cell_type": "code",
   "execution_count": 39,
   "metadata": {
    "collapsed": false
   },
   "outputs": [
    {
     "data": {
      "text/html": [
       "<table>\n",
       "<thead><tr><th scope=col>empType</th><th scope=col>variable</th><th scope=col>value</th></tr></thead>\n",
       "<tbody>\n",
       "\t<tr><td>large\n",
       "corporation</td><td>labors            </td><td>145               </td></tr>\n",
       "\t<tr><td>medium\n",
       "company   </td><td>labors            </td><td> 66               </td></tr>\n",
       "\t<tr><td>small\n",
       "bussiness  </td><td>labors            </td><td>136               </td></tr>\n",
       "\t<tr><td>government        </td><td>labors            </td><td> 27               </td></tr>\n",
       "\t<tr><td>educational       </td><td>labors            </td><td> 22               </td></tr>\n",
       "\t<tr><td>nonprofit         </td><td>labors            </td><td> 21               </td></tr>\n",
       "\t<tr><td>other             </td><td>labors            </td><td> 11               </td></tr>\n",
       "\t<tr><td>self\n",
       "employed    </td><td>labors            </td><td> 15               </td></tr>\n",
       "</tbody>\n",
       "</table>\n"
      ],
      "text/latex": [
       "\\begin{tabular}{r|lll}\n",
       " empType & variable & value\\\\\n",
       "\\hline\n",
       "\t large\n",
       "corporation & labors             & 145               \\\\\n",
       "\t medium\n",
       "company    & labors             &  66               \\\\\n",
       "\t small\n",
       "bussiness   & labors             & 136               \\\\\n",
       "\t government         & labors             &  27               \\\\\n",
       "\t educational        & labors             &  22               \\\\\n",
       "\t nonprofit          & labors             &  21               \\\\\n",
       "\t other              & labors             &  11               \\\\\n",
       "\t self\n",
       "employed     & labors             &  15               \\\\\n",
       "\\end{tabular}\n"
      ],
      "text/markdown": [
       "\n",
       "empType | variable | value | \n",
       "|---|---|---|---|---|---|---|---|\n",
       "| large\n",
       "corporation | labors             | 145                | \n",
       "| medium\n",
       "company    | labors             |  66                | \n",
       "| small\n",
       "bussiness   | labors             | 136                | \n",
       "| government         | labors             |  27                | \n",
       "| educational        | labors             |  22                | \n",
       "| nonprofit          | labors             |  21                | \n",
       "| other              | labors             |  11                | \n",
       "| self\n",
       "employed     | labors             |  15                | \n",
       "\n",
       "\n"
      ],
      "text/plain": [
       "  empType            variable value\n",
       "1 large\\ncorporation labors   145  \n",
       "2 medium\\ncompany    labors    66  \n",
       "3 small\\nbussiness   labors   136  \n",
       "4 government         labors    27  \n",
       "5 educational        labors    22  \n",
       "6 nonprofit          labors    21  \n",
       "7 other              labors    11  \n",
       "8 self\\nemployed     labors    15  "
      ]
     },
     "metadata": {},
     "output_type": "display_data"
    }
   ],
   "source": [
    "q5plot"
   ]
  },
  {
   "cell_type": "code",
   "execution_count": 40,
   "metadata": {
    "collapsed": false
   },
   "outputs": [
    {
     "name": "stderr",
     "output_type": "stream",
     "text": [
      "Warning message:\n",
      "\"Ignoring unknown parameters: binwidth, bins, pad\""
     ]
    },
    {
     "data": {},
     "metadata": {},
     "output_type": "display_data"
    },
    {
     "data": {
      "image/png": "[encoded data removed]",
      "text/plain": [
       "plot without title"
      ]
     },
     "metadata": {},
     "output_type": "display_data"
    }
   ],
   "source": [
    "ggplot(q5plot, aes(x=empType,y=value))+ geom_histogram(stat=\"identity\",position=\"dodge\")"
   ]
  },
  {
   "cell_type": "markdown",
   "metadata": {},
   "source": [
    "It is clear that large corporations and small business have large amount of labors than other"
   ]
  },
  {
   "cell_type": "markdown",
   "metadata": {},
   "source": [
    "QUERY 6: smart phone usage over age distribution"
   ]
  },
  {
   "cell_type": "code",
   "execution_count": 41,
   "metadata": {
    "collapsed": true
   },
   "outputs": [],
   "source": [
    "q6Data <- sqldf(\"select age, count(SMART1) from data where SMART1=1 group by age\")"
   ]
  },
  {
   "cell_type": "code",
   "execution_count": 42,
   "metadata": {
    "collapsed": false
   },
   "outputs": [
    {
     "data": {
      "text/html": [
       "<table>\n",
       "<thead><tr><th scope=col>age</th><th scope=col>count(SMART1)</th></tr></thead>\n",
       "<tbody>\n",
       "\t<tr><td>18</td><td>19</td></tr>\n",
       "\t<tr><td>19</td><td>24</td></tr>\n",
       "\t<tr><td>20</td><td>25</td></tr>\n",
       "\t<tr><td>21</td><td>21</td></tr>\n",
       "\t<tr><td>22</td><td>29</td></tr>\n",
       "\t<tr><td>23</td><td>24</td></tr>\n",
       "\t<tr><td>24</td><td>29</td></tr>\n",
       "\t<tr><td>25</td><td>23</td></tr>\n",
       "\t<tr><td>26</td><td>34</td></tr>\n",
       "\t<tr><td>27</td><td> 9</td></tr>\n",
       "\t<tr><td>28</td><td>25</td></tr>\n",
       "\t<tr><td>29</td><td>18</td></tr>\n",
       "\t<tr><td>30</td><td>34</td></tr>\n",
       "\t<tr><td>31</td><td>23</td></tr>\n",
       "\t<tr><td>32</td><td>28</td></tr>\n",
       "\t<tr><td>33</td><td>17</td></tr>\n",
       "\t<tr><td>34</td><td>24</td></tr>\n",
       "\t<tr><td>35</td><td>24</td></tr>\n",
       "\t<tr><td>36</td><td>19</td></tr>\n",
       "\t<tr><td>37</td><td>18</td></tr>\n",
       "\t<tr><td>38</td><td>18</td></tr>\n",
       "\t<tr><td>39</td><td>17</td></tr>\n",
       "\t<tr><td>40</td><td>24</td></tr>\n",
       "\t<tr><td>41</td><td>15</td></tr>\n",
       "\t<tr><td>42</td><td>19</td></tr>\n",
       "\t<tr><td>43</td><td>23</td></tr>\n",
       "\t<tr><td>44</td><td>33</td></tr>\n",
       "\t<tr><td>45</td><td>35</td></tr>\n",
       "\t<tr><td>46</td><td>14</td></tr>\n",
       "\t<tr><td>47</td><td>25</td></tr>\n",
       "\t<tr><td>...</td><td>...</td></tr>\n",
       "\t<tr><td>57</td><td>24</td></tr>\n",
       "\t<tr><td>58</td><td>17</td></tr>\n",
       "\t<tr><td>59</td><td>20</td></tr>\n",
       "\t<tr><td>60</td><td>40</td></tr>\n",
       "\t<tr><td>61</td><td>28</td></tr>\n",
       "\t<tr><td>62</td><td>25</td></tr>\n",
       "\t<tr><td>63</td><td>16</td></tr>\n",
       "\t<tr><td>64</td><td>25</td></tr>\n",
       "\t<tr><td>65</td><td>23</td></tr>\n",
       "\t<tr><td>66</td><td>25</td></tr>\n",
       "\t<tr><td>67</td><td>25</td></tr>\n",
       "\t<tr><td>68</td><td>18</td></tr>\n",
       "\t<tr><td>69</td><td>10</td></tr>\n",
       "\t<tr><td>70</td><td>16</td></tr>\n",
       "\t<tr><td>71</td><td> 6</td></tr>\n",
       "\t<tr><td>72</td><td>24</td></tr>\n",
       "\t<tr><td>73</td><td> 8</td></tr>\n",
       "\t<tr><td>74</td><td> 7</td></tr>\n",
       "\t<tr><td>75</td><td> 6</td></tr>\n",
       "\t<tr><td>76</td><td> 5</td></tr>\n",
       "\t<tr><td>77</td><td> 4</td></tr>\n",
       "\t<tr><td>78</td><td> 2</td></tr>\n",
       "\t<tr><td>79</td><td> 4</td></tr>\n",
       "\t<tr><td>80</td><td> 3</td></tr>\n",
       "\t<tr><td>81</td><td> 3</td></tr>\n",
       "\t<tr><td>82</td><td> 1</td></tr>\n",
       "\t<tr><td>83</td><td> 2</td></tr>\n",
       "\t<tr><td>85</td><td> 2</td></tr>\n",
       "\t<tr><td>98</td><td> 5</td></tr>\n",
       "\t<tr><td>99</td><td>21</td></tr>\n",
       "</tbody>\n",
       "</table>\n"
      ],
      "text/latex": [
       "\\begin{tabular}{r|ll}\n",
       " age & count(SMART1)\\\\\n",
       "\\hline\n",
       "\t 18 & 19\\\\\n",
       "\t 19 & 24\\\\\n",
       "\t 20 & 25\\\\\n",
       "\t 21 & 21\\\\\n",
       "\t 22 & 29\\\\\n",
       "\t 23 & 24\\\\\n",
       "\t 24 & 29\\\\\n",
       "\t 25 & 23\\\\\n",
       "\t 26 & 34\\\\\n",
       "\t 27 &  9\\\\\n",
       "\t 28 & 25\\\\\n",
       "\t 29 & 18\\\\\n",
       "\t 30 & 34\\\\\n",
       "\t 31 & 23\\\\\n",
       "\t 32 & 28\\\\\n",
       "\t 33 & 17\\\\\n",
       "\t 34 & 24\\\\\n",
       "\t 35 & 24\\\\\n",
       "\t 36 & 19\\\\\n",
       "\t 37 & 18\\\\\n",
       "\t 38 & 18\\\\\n",
       "\t 39 & 17\\\\\n",
       "\t 40 & 24\\\\\n",
       "\t 41 & 15\\\\\n",
       "\t 42 & 19\\\\\n",
       "\t 43 & 23\\\\\n",
       "\t 44 & 33\\\\\n",
       "\t 45 & 35\\\\\n",
       "\t 46 & 14\\\\\n",
       "\t 47 & 25\\\\\n",
       "\t ... & ...\\\\\n",
       "\t 57 & 24\\\\\n",
       "\t 58 & 17\\\\\n",
       "\t 59 & 20\\\\\n",
       "\t 60 & 40\\\\\n",
       "\t 61 & 28\\\\\n",
       "\t 62 & 25\\\\\n",
       "\t 63 & 16\\\\\n",
       "\t 64 & 25\\\\\n",
       "\t 65 & 23\\\\\n",
       "\t 66 & 25\\\\\n",
       "\t 67 & 25\\\\\n",
       "\t 68 & 18\\\\\n",
       "\t 69 & 10\\\\\n",
       "\t 70 & 16\\\\\n",
       "\t 71 &  6\\\\\n",
       "\t 72 & 24\\\\\n",
       "\t 73 &  8\\\\\n",
       "\t 74 &  7\\\\\n",
       "\t 75 &  6\\\\\n",
       "\t 76 &  5\\\\\n",
       "\t 77 &  4\\\\\n",
       "\t 78 &  2\\\\\n",
       "\t 79 &  4\\\\\n",
       "\t 80 &  3\\\\\n",
       "\t 81 &  3\\\\\n",
       "\t 82 &  1\\\\\n",
       "\t 83 &  2\\\\\n",
       "\t 85 &  2\\\\\n",
       "\t 98 &  5\\\\\n",
       "\t 99 & 21\\\\\n",
       "\\end{tabular}\n"
      ],
      "text/markdown": [
       "\n",
       "age | count(SMART1) | \n",
       "|---|---|---|---|---|---|---|---|---|---|---|---|---|---|---|---|---|---|---|---|---|---|---|---|---|---|---|---|---|---|---|---|---|---|---|---|---|---|---|---|---|---|---|---|---|---|---|---|---|---|---|---|---|---|---|---|---|---|---|---|---|\n",
       "| 18 | 19 | \n",
       "| 19 | 24 | \n",
       "| 20 | 25 | \n",
       "| 21 | 21 | \n",
       "| 22 | 29 | \n",
       "| 23 | 24 | \n",
       "| 24 | 29 | \n",
       "| 25 | 23 | \n",
       "| 26 | 34 | \n",
       "| 27 |  9 | \n",
       "| 28 | 25 | \n",
       "| 29 | 18 | \n",
       "| 30 | 34 | \n",
       "| 31 | 23 | \n",
       "| 32 | 28 | \n",
       "| 33 | 17 | \n",
       "| 34 | 24 | \n",
       "| 35 | 24 | \n",
       "| 36 | 19 | \n",
       "| 37 | 18 | \n",
       "| 38 | 18 | \n",
       "| 39 | 17 | \n",
       "| 40 | 24 | \n",
       "| 41 | 15 | \n",
       "| 42 | 19 | \n",
       "| 43 | 23 | \n",
       "| 44 | 33 | \n",
       "| 45 | 35 | \n",
       "| 46 | 14 | \n",
       "| 47 | 25 | \n",
       "| ... | ... | \n",
       "| 57 | 24 | \n",
       "| 58 | 17 | \n",
       "| 59 | 20 | \n",
       "| 60 | 40 | \n",
       "| 61 | 28 | \n",
       "| 62 | 25 | \n",
       "| 63 | 16 | \n",
       "| 64 | 25 | \n",
       "| 65 | 23 | \n",
       "| 66 | 25 | \n",
       "| 67 | 25 | \n",
       "| 68 | 18 | \n",
       "| 69 | 10 | \n",
       "| 70 | 16 | \n",
       "| 71 |  6 | \n",
       "| 72 | 24 | \n",
       "| 73 |  8 | \n",
       "| 74 |  7 | \n",
       "| 75 |  6 | \n",
       "| 76 |  5 | \n",
       "| 77 |  4 | \n",
       "| 78 |  2 | \n",
       "| 79 |  4 | \n",
       "| 80 |  3 | \n",
       "| 81 |  3 | \n",
       "| 82 |  1 | \n",
       "| 83 |  2 | \n",
       "| 85 |  2 | \n",
       "| 98 |  5 | \n",
       "| 99 | 21 | \n",
       "\n",
       "\n"
      ],
      "text/plain": [
       "    age count(SMART1)\n",
       "1   18  19           \n",
       "2   19  24           \n",
       "3   20  25           \n",
       "4   21  21           \n",
       "5   22  29           \n",
       "6   23  24           \n",
       "7   24  29           \n",
       "8   25  23           \n",
       "9   26  34           \n",
       "10  27   9           \n",
       "11  28  25           \n",
       "12  29  18           \n",
       "13  30  34           \n",
       "14  31  23           \n",
       "15  32  28           \n",
       "16  33  17           \n",
       "17  34  24           \n",
       "18  35  24           \n",
       "19  36  19           \n",
       "20  37  18           \n",
       "21  38  18           \n",
       "22  39  17           \n",
       "23  40  24           \n",
       "24  41  15           \n",
       "25  42  19           \n",
       "26  43  23           \n",
       "27  44  33           \n",
       "28  45  35           \n",
       "29  46  14           \n",
       "30  47  25           \n",
       "... ... ...          \n",
       "40  57  24           \n",
       "41  58  17           \n",
       "42  59  20           \n",
       "43  60  40           \n",
       "44  61  28           \n",
       "45  62  25           \n",
       "46  63  16           \n",
       "47  64  25           \n",
       "48  65  23           \n",
       "49  66  25           \n",
       "50  67  25           \n",
       "51  68  18           \n",
       "52  69  10           \n",
       "53  70  16           \n",
       "54  71   6           \n",
       "55  72  24           \n",
       "56  73   8           \n",
       "57  74   7           \n",
       "58  75   6           \n",
       "59  76   5           \n",
       "60  77   4           \n",
       "61  78   2           \n",
       "62  79   4           \n",
       "63  80   3           \n",
       "64  81   3           \n",
       "65  82   1           \n",
       "66  83   2           \n",
       "67  85   2           \n",
       "68  98   5           \n",
       "69  99  21           "
      ]
     },
     "metadata": {},
     "output_type": "display_data"
    }
   ],
   "source": [
    "q6Data"
   ]
  },
  {
   "cell_type": "code",
   "execution_count": 43,
   "metadata": {
    "collapsed": false
   },
   "outputs": [
    {
     "data": {
      "image/png": "[encoded data removed]",
      "text/plain": [
       "Plot with title \"smart phone usage with different age\""
      ]
     },
     "metadata": {},
     "output_type": "display_data"
    }
   ],
   "source": [
    "plot(q6Data[[2]], xlab = \"age\", ylab = \"Smart phone usage\", main=\"smart phone usage with different age\", type=\"l\")"
   ]
  },
  {
   "cell_type": "markdown",
   "metadata": {},
   "source": [
    "smart phone is mostly used during 11-15, 25-30 and 40-45 and as you can see with age above 50 smart phone usage is very less"
   ]
  },
  {
   "cell_type": "code",
   "execution_count": null,
   "metadata": {
    "collapsed": true
   },
   "outputs": [],
   "source": []
  }
 ],
 "metadata": {
  "anaconda-cloud": {},
  "kernelspec": {
   "display_name": "R",
   "language": "R",
   "name": "ir"
  },
  "language_info": {
   "codemirror_mode": "r",
   "file_extension": ".r",
   "mimetype": "text/x-r-source",
   "name": "R",
   "pygments_lexer": "r",
   "version": "3.3.2"
  }
 },
 "nbformat": 4,
 "nbformat_minor": 1
}
