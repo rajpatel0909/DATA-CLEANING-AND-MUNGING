{
 "cells": [
  {
   "cell_type": "markdown",
   "metadata": {},
   "source": [
    "Reading RSQLite and dplyr libraries"
   ]
  },
  {
   "cell_type": "code",
   "execution_count": 74,
   "metadata": {
    "collapsed": true
   },
   "outputs": [],
   "source": [
    "library(\"RSQLite\")"
   ]
  },
  {
   "cell_type": "code",
   "execution_count": 75,
   "metadata": {
    "collapsed": false
   },
   "outputs": [],
   "source": [
    "library(dplyr)"
   ]
  },
  {
   "cell_type": "markdown",
   "metadata": {},
   "source": [
    "Reading DATABASE"
   ]
  },
  {
   "cell_type": "code",
   "execution_count": 76,
   "metadata": {
    "collapsed": false
   },
   "outputs": [],
   "source": [
    "my_db <- src_sqlite(\"database.sqlite\")"
   ]
  },
  {
   "cell_type": "code",
   "execution_count": 77,
   "metadata": {
    "collapsed": false
   },
   "outputs": [
    {
     "data": {
      "text/plain": [
       "src:  sqlite 3.11.1 [database.sqlite]\n",
       "tbls: Country, League, Match, Player, Player_Attributes, sqlite_sequence, Team,\n",
       "  Team_Attributes"
      ]
     },
     "metadata": {},
     "output_type": "display_data"
    }
   ],
   "source": [
    "my_db"
   ]
  },
  {
   "cell_type": "markdown",
   "metadata": {},
   "source": [
    "Reading all tables to understand varaibles"
   ]
  },
  {
   "cell_type": "code",
   "execution_count": 78,
   "metadata": {
    "collapsed": true
   },
   "outputs": [],
   "source": [
    "country <- tbl(my_db, \"Country\")\n",
    "league <- tbl(my_db, \"League\")\n",
    "match <- tbl(my_db, \"Match\")\n",
    "player <- tbl(my_db, \"Player\")\n",
    "playerAtt <- tbl(my_db, \"Player_Attributes\")\n",
    "sqliteSeq <- tbl(my_db, \"sqlite_sequence\")\n",
    "team <- tbl(my_db, \"Team\")\n",
    "teamAtt <- tbl(my_db, \"Team_Attributes\")"
   ]
  },
  {
   "cell_type": "code",
   "execution_count": 79,
   "metadata": {
    "collapsed": false
   },
   "outputs": [
    {
     "data": {
      "text/plain": [
       "Source:   query [?? x 115]\n",
       "Database: sqlite 3.11.1 [database.sqlite]\n",
       "\n",
       "      id country_id league_id    season stage                date match_api_id\n",
       "   <int>      <int>     <int>     <chr> <int>               <chr>        <int>\n",
       "1      1          1         1 2008/2009     1 2008-08-17 00:00:00       492473\n",
       "2      2          1         1 2008/2009     1 2008-08-16 00:00:00       492474\n",
       "3      3          1         1 2008/2009     1 2008-08-16 00:00:00       492475\n",
       "4      4          1         1 2008/2009     1 2008-08-17 00:00:00       492476\n",
       "5      5          1         1 2008/2009     1 2008-08-16 00:00:00       492477\n",
       "6      6          1         1 2008/2009     1 2008-09-24 00:00:00       492478\n",
       "7      7          1         1 2008/2009     1 2008-08-16 00:00:00       492479\n",
       "8      8          1         1 2008/2009     1 2008-08-16 00:00:00       492480\n",
       "9      9          1         1 2008/2009     1 2008-08-16 00:00:00       492481\n",
       "10    10          1         1 2008/2009    10 2008-11-01 00:00:00       492564\n",
       "# ... with more rows, and 108 more variables: home_team_api_id <int>,\n",
       "#   away_team_api_id <int>, home_team_goal <int>, away_team_goal <int>,\n",
       "#   home_player_X1 <int>, home_player_X2 <int>, home_player_X3 <int>,\n",
       "#   home_player_X4 <int>, home_player_X5 <int>, home_player_X6 <int>,\n",
       "#   home_player_X7 <int>, home_player_X8 <int>, home_player_X9 <int>,\n",
       "#   home_player_X10 <int>, home_player_X11 <int>, away_player_X1 <int>,\n",
       "#   away_player_X2 <int>, away_player_X3 <int>, away_player_X4 <int>,\n",
       "#   away_player_X5 <int>, away_player_X6 <int>, away_player_X7 <int>,\n",
       "#   away_player_X8 <int>, away_player_X9 <int>, away_player_X10 <int>,\n",
       "#   away_player_X11 <int>, home_player_Y1 <int>, home_player_Y2 <int>,\n",
       "#   home_player_Y3 <int>, home_player_Y4 <int>, home_player_Y5 <int>,\n",
       "#   home_player_Y6 <int>, home_player_Y7 <int>, home_player_Y8 <int>,\n",
       "#   home_player_Y9 <int>, home_player_Y10 <int>, home_player_Y11 <int>,\n",
       "#   away_player_Y1 <int>, away_player_Y2 <int>, away_player_Y3 <int>,\n",
       "#   away_player_Y4 <int>, away_player_Y5 <int>, away_player_Y6 <int>,\n",
       "#   away_player_Y7 <int>, away_player_Y8 <int>, away_player_Y9 <int>,\n",
       "#   away_player_Y10 <int>, away_player_Y11 <int>, home_player_1 <int>,\n",
       "#   home_player_2 <int>, home_player_3 <int>, home_player_4 <int>,\n",
       "#   home_player_5 <int>, home_player_6 <int>, home_player_7 <int>,\n",
       "#   home_player_8 <int>, home_player_9 <int>, home_player_10 <int>,\n",
       "#   home_player_11 <int>, away_player_1 <int>, away_player_2 <int>,\n",
       "#   away_player_3 <int>, away_player_4 <int>, away_player_5 <int>,\n",
       "#   away_player_6 <int>, away_player_7 <int>, away_player_8 <int>,\n",
       "#   away_player_9 <int>, away_player_10 <int>, away_player_11 <int>,\n",
       "#   goal <chr>, shoton <chr>, shotoff <chr>, foulcommit <chr>, card <chr>,\n",
       "#   cross <chr>, corner <chr>, possession <chr>, B365H <dbl>, B365D <dbl>,\n",
       "#   B365A <int>, BWH <dbl>, BWD <dbl>, BWA <dbl>, IWH <dbl>, IWD <dbl>,\n",
       "#   IWA <dbl>, LBH <dbl>, LBD <dbl>, LBA <dbl>, PSH <dbl>, PSD <dbl>,\n",
       "#   PSA <dbl>, WHH <dbl>, WHD <dbl>, WHA <dbl>, SJH <dbl>, SJD <dbl>,\n",
       "#   SJA <int>, VCH <dbl>, ..."
      ]
     },
     "metadata": {},
     "output_type": "display_data"
    }
   ],
   "source": [
    "match"
   ]
  },
  {
   "cell_type": "code",
   "execution_count": 80,
   "metadata": {
    "collapsed": false
   },
   "outputs": [
    {
     "data": {
      "text/plain": [
       "Source:   query [?? x 3]\n",
       "Database: sqlite 3.11.1 [database.sqlite]\n",
       "\n",
       "      id country_id                     name\n",
       "   <int>      <int>                    <chr>\n",
       "1      1          1   Belgium Jupiler League\n",
       "2   1729       1729   England Premier League\n",
       "3   4769       4769           France Ligue 1\n",
       "4   7809       7809    Germany 1. Bundesliga\n",
       "5  10257      10257            Italy Serie A\n",
       "6  13274      13274   Netherlands Eredivisie\n",
       "7  15722      15722       Poland Ekstraklasa\n",
       "8  17642      17642 Portugal Liga ZON Sagres\n",
       "9  19694      19694  Scotland Premier League\n",
       "10 21518      21518          Spain LIGA BBVA\n",
       "# ... with more rows"
      ]
     },
     "metadata": {},
     "output_type": "display_data"
    }
   ],
   "source": [
    "league"
   ]
  },
  {
   "cell_type": "code",
   "execution_count": 81,
   "metadata": {
    "collapsed": false
   },
   "outputs": [
    {
     "data": {
      "text/plain": [
       "Source:   query [?? x 115]\n",
       "Database: sqlite 3.11.1 [database.sqlite]\n",
       "\n",
       "      id country_id league_id    season stage                date match_api_id\n",
       "   <int>      <int>     <int>     <chr> <int>               <chr>        <int>\n",
       "1      1          1         1 2008/2009     1 2008-08-17 00:00:00       492473\n",
       "2      2          1         1 2008/2009     1 2008-08-16 00:00:00       492474\n",
       "3      3          1         1 2008/2009     1 2008-08-16 00:00:00       492475\n",
       "4      4          1         1 2008/2009     1 2008-08-17 00:00:00       492476\n",
       "5      5          1         1 2008/2009     1 2008-08-16 00:00:00       492477\n",
       "6      6          1         1 2008/2009     1 2008-09-24 00:00:00       492478\n",
       "7      7          1         1 2008/2009     1 2008-08-16 00:00:00       492479\n",
       "8      8          1         1 2008/2009     1 2008-08-16 00:00:00       492480\n",
       "9      9          1         1 2008/2009     1 2008-08-16 00:00:00       492481\n",
       "10    10          1         1 2008/2009    10 2008-11-01 00:00:00       492564\n",
       "# ... with more rows, and 108 more variables: home_team_api_id <int>,\n",
       "#   away_team_api_id <int>, home_team_goal <int>, away_team_goal <int>,\n",
       "#   home_player_X1 <int>, home_player_X2 <int>, home_player_X3 <int>,\n",
       "#   home_player_X4 <int>, home_player_X5 <int>, home_player_X6 <int>,\n",
       "#   home_player_X7 <int>, home_player_X8 <int>, home_player_X9 <int>,\n",
       "#   home_player_X10 <int>, home_player_X11 <int>, away_player_X1 <int>,\n",
       "#   away_player_X2 <int>, away_player_X3 <int>, away_player_X4 <int>,\n",
       "#   away_player_X5 <int>, away_player_X6 <int>, away_player_X7 <int>,\n",
       "#   away_player_X8 <int>, away_player_X9 <int>, away_player_X10 <int>,\n",
       "#   away_player_X11 <int>, home_player_Y1 <int>, home_player_Y2 <int>,\n",
       "#   home_player_Y3 <int>, home_player_Y4 <int>, home_player_Y5 <int>,\n",
       "#   home_player_Y6 <int>, home_player_Y7 <int>, home_player_Y8 <int>,\n",
       "#   home_player_Y9 <int>, home_player_Y10 <int>, home_player_Y11 <int>,\n",
       "#   away_player_Y1 <int>, away_player_Y2 <int>, away_player_Y3 <int>,\n",
       "#   away_player_Y4 <int>, away_player_Y5 <int>, away_player_Y6 <int>,\n",
       "#   away_player_Y7 <int>, away_player_Y8 <int>, away_player_Y9 <int>,\n",
       "#   away_player_Y10 <int>, away_player_Y11 <int>, home_player_1 <int>,\n",
       "#   home_player_2 <int>, home_player_3 <int>, home_player_4 <int>,\n",
       "#   home_player_5 <int>, home_player_6 <int>, home_player_7 <int>,\n",
       "#   home_player_8 <int>, home_player_9 <int>, home_player_10 <int>,\n",
       "#   home_player_11 <int>, away_player_1 <int>, away_player_2 <int>,\n",
       "#   away_player_3 <int>, away_player_4 <int>, away_player_5 <int>,\n",
       "#   away_player_6 <int>, away_player_7 <int>, away_player_8 <int>,\n",
       "#   away_player_9 <int>, away_player_10 <int>, away_player_11 <int>,\n",
       "#   goal <chr>, shoton <chr>, shotoff <chr>, foulcommit <chr>, card <chr>,\n",
       "#   cross <chr>, corner <chr>, possession <chr>, B365H <dbl>, B365D <dbl>,\n",
       "#   B365A <int>, BWH <dbl>, BWD <dbl>, BWA <dbl>, IWH <dbl>, IWD <dbl>,\n",
       "#   IWA <dbl>, LBH <dbl>, LBD <dbl>, LBA <dbl>, PSH <dbl>, PSD <dbl>,\n",
       "#   PSA <dbl>, WHH <dbl>, WHD <dbl>, WHA <dbl>, SJH <dbl>, SJD <dbl>,\n",
       "#   SJA <int>, VCH <dbl>, ..."
      ]
     },
     "metadata": {},
     "output_type": "display_data"
    }
   ],
   "source": [
    "match"
   ]
  },
  {
   "cell_type": "code",
   "execution_count": 82,
   "metadata": {
    "collapsed": false
   },
   "outputs": [
    {
     "data": {
      "text/plain": [
       "Source:   query [?? x 2]\n",
       "Database: sqlite 3.11.1 [database.sqlite]\n",
       "\n",
       "   player appearances\n",
       "    <int>       <int>\n",
       "1      NA        2604\n",
       "2    2752          37\n",
       "3    2768          35\n",
       "4    2977           3\n",
       "5    3263           7\n",
       "6    3316           1\n",
       "7    3329          26\n",
       "8    3441           3\n",
       "9    4747          18\n",
       "10   4863           3\n",
       "# ... with more rows"
      ]
     },
     "metadata": {},
     "output_type": "display_data"
    }
   ],
   "source": [
    "tbl(my_db, sql(\"select player, sum(app) as appearances from(\n",
    "                SELECT home_player_3 as player, COUNT(*) AS app FROM Match GROUP BY home_player_3\n",
    "                union all\n",
    "                SELECT home_player_4 as player, COUNT(*) AS app FROM Match GROUP BY home_player_4\n",
    "                order by player)\n",
    "                group by player\n",
    "               \"))"
   ]
  },
  {
   "cell_type": "markdown",
   "metadata": {},
   "source": [
    "Calculating number of appearances for each player"
   ]
  },
  {
   "cell_type": "code",
   "execution_count": 83,
   "metadata": {
    "collapsed": true
   },
   "outputs": [],
   "source": [
    "noOfApp <- data.frame(tbl(my_db, sql(\"SELECT player, sum(app) AS appearances FROM(\n",
    "                SELECT home_player_1 as player, COUNT(*) AS app FROM Match GROUP BY home_player_1\n",
    "                UNION\n",
    "                SELECT home_player_2 as player, COUNT(*) AS app FROM Match GROUP BY home_player_2\n",
    "                UNION\n",
    "                SELECT home_player_3 as player, COUNT(*) AS app FROM Match GROUP BY home_player_3\n",
    "                UNION\n",
    "                SELECT home_player_4 as player, COUNT(*) AS app FROM Match GROUP BY home_player_4\n",
    "                UNION\n",
    "                SELECT home_player_5 as player, COUNT(*) AS app FROM Match GROUP BY home_player_5\n",
    "                UNION\n",
    "                SELECT home_player_6 as player, COUNT(*) AS app FROM Match GROUP BY home_player_6\n",
    "                UNION\n",
    "                SELECT home_player_7 as player, COUNT(*) AS app FROM Match GROUP BY home_player_7\n",
    "                UNION\n",
    "                SELECT home_player_8 as player, COUNT(*) AS app FROM Match GROUP BY home_player_8\n",
    "                UNION\n",
    "                SELECT home_player_9 as player, COUNT(*) AS app FROM Match GROUP BY home_player_9\n",
    "                UNION\n",
    "                SELECT home_player_10 as player, COUNT(*) AS app FROM Match GROUP BY home_player_10\n",
    "                UNION\n",
    "                SELECT home_player_11 as player, COUNT(*) AS app FROM Match GROUP BY home_player_11\n",
    "                UNION\n",
    "                SELECT away_player_1 as player, COUNT(*) AS app FROM Match GROUP BY away_player_1\n",
    "                UNION\n",
    "                SELECT away_player_2 as player, COUNT(*) AS app FROM Match GROUP BY away_player_2\n",
    "                UNION\n",
    "                SELECT away_player_3 as player, COUNT(*) AS app FROM Match GROUP BY away_player_3\n",
    "                UNION\n",
    "                SELECT away_player_4 as player, COUNT(*) AS app FROM Match GROUP BY away_player_4\n",
    "                UNION\n",
    "                SELECT away_player_5 as player, COUNT(*) AS app FROM Match GROUP BY away_player_5\n",
    "                UNION\n",
    "                SELECT away_player_6 as player, COUNT(*) AS app FROM Match GROUP BY away_player_6\n",
    "                UNION\n",
    "                SELECT away_player_7 as player, COUNT(*) AS app FROM Match GROUP BY away_player_7\n",
    "                UNION\n",
    "                SELECT away_player_8 as player, COUNT(*) AS app FROM Match GROUP BY away_player_8\n",
    "                UNION\n",
    "                SELECT away_player_9 as player, COUNT(*) AS app FROM Match GROUP BY away_player_9\n",
    "                UNION\n",
    "                SELECT away_player_10 as player, COUNT(*) AS app FROM Match GROUP BY away_player_10\n",
    "                UNION\n",
    "                SELECT away_player_11 as player, COUNT(*) AS app FROM Match GROUP BY away_player_11\n",
    "                ORDER BY player)\n",
    "                GROUP BY player\n",
    "                \")))"
   ]
  },
  {
   "cell_type": "code",
   "execution_count": 84,
   "metadata": {
    "collapsed": false
   },
   "outputs": [
    {
     "data": {
      "text/html": [
       "<table>\n",
       "<thead><tr><th scope=col>player</th><th scope=col>appearances</th></tr></thead>\n",
       "<tbody>\n",
       "\t<tr><td>  NA </td><td>29257</td></tr>\n",
       "\t<tr><td>2625 </td><td>   86</td></tr>\n",
       "\t<tr><td>2752 </td><td>   81</td></tr>\n",
       "\t<tr><td>2768 </td><td>   71</td></tr>\n",
       "\t<tr><td>2770 </td><td>    8</td></tr>\n",
       "\t<tr><td>2790 </td><td>   50</td></tr>\n",
       "\t<tr><td>2796 </td><td>    1</td></tr>\n",
       "\t<tr><td>2802 </td><td>  142</td></tr>\n",
       "\t<tr><td>2805 </td><td>  126</td></tr>\n",
       "\t<tr><td>2857 </td><td>    3</td></tr>\n",
       "\t<tr><td>2862 </td><td>   13</td></tr>\n",
       "\t<tr><td>2907 </td><td>    3</td></tr>\n",
       "\t<tr><td>2973 </td><td>   11</td></tr>\n",
       "\t<tr><td>2977 </td><td>    3</td></tr>\n",
       "\t<tr><td>2983 </td><td>   70</td></tr>\n",
       "\t<tr><td>2984 </td><td>   19</td></tr>\n",
       "\t<tr><td>3140 </td><td>   35</td></tr>\n",
       "\t<tr><td>3204 </td><td>   20</td></tr>\n",
       "\t<tr><td>3263 </td><td>   11</td></tr>\n",
       "\t<tr><td>3264 </td><td>    1</td></tr>\n",
       "\t<tr><td>3316 </td><td>    3</td></tr>\n",
       "\t<tr><td>3329 </td><td>   55</td></tr>\n",
       "\t<tr><td>3377 </td><td>    1</td></tr>\n",
       "\t<tr><td>3441 </td><td>   63</td></tr>\n",
       "\t<tr><td>3512 </td><td>    4</td></tr>\n",
       "\t<tr><td>3517 </td><td>   17</td></tr>\n",
       "\t<tr><td>3520 </td><td>   63</td></tr>\n",
       "\t<tr><td>4747 </td><td>   35</td></tr>\n",
       "\t<tr><td>4863 </td><td>   25</td></tr>\n",
       "\t<tr><td>4902 </td><td>   68</td></tr>\n",
       "\t<tr><td>...</td><td>...</td></tr>\n",
       "\t<tr><td>701154</td><td> 1    </td></tr>\n",
       "\t<tr><td>703659</td><td> 1    </td></tr>\n",
       "\t<tr><td>704523</td><td> 3    </td></tr>\n",
       "\t<tr><td>705484</td><td> 3    </td></tr>\n",
       "\t<tr><td>706985</td><td> 1    </td></tr>\n",
       "\t<tr><td>710807</td><td> 1    </td></tr>\n",
       "\t<tr><td>715642</td><td> 1    </td></tr>\n",
       "\t<tr><td>716998</td><td> 1    </td></tr>\n",
       "\t<tr><td>717248</td><td> 3    </td></tr>\n",
       "\t<tr><td>717270</td><td> 1    </td></tr>\n",
       "\t<tr><td>717557</td><td> 4    </td></tr>\n",
       "\t<tr><td>719413</td><td> 3    </td></tr>\n",
       "\t<tr><td>720738</td><td> 5    </td></tr>\n",
       "\t<tr><td>721133</td><td>15    </td></tr>\n",
       "\t<tr><td>722766</td><td>10    </td></tr>\n",
       "\t<tr><td>723037</td><td> 7    </td></tr>\n",
       "\t<tr><td>725718</td><td> 1    </td></tr>\n",
       "\t<tr><td>726956</td><td> 4    </td></tr>\n",
       "\t<tr><td>728125</td><td> 2    </td></tr>\n",
       "\t<tr><td>728414</td><td> 1    </td></tr>\n",
       "\t<tr><td>728478</td><td> 1    </td></tr>\n",
       "\t<tr><td>730065</td><td> 1    </td></tr>\n",
       "\t<tr><td>733787</td><td> 1    </td></tr>\n",
       "\t<tr><td>742405</td><td> 1    </td></tr>\n",
       "\t<tr><td>743720</td><td> 1    </td></tr>\n",
       "\t<tr><td>744907</td><td> 1    </td></tr>\n",
       "\t<tr><td>746419</td><td> 1    </td></tr>\n",
       "\t<tr><td>748432</td><td> 1    </td></tr>\n",
       "\t<tr><td>750435</td><td> 1    </td></tr>\n",
       "\t<tr><td>750584</td><td> 1    </td></tr>\n",
       "</tbody>\n",
       "</table>\n"
      ],
      "text/latex": [
       "\\begin{tabular}{r|ll}\n",
       " player & appearances\\\\\n",
       "\\hline\n",
       "\t   NA  & 29257\\\\\n",
       "\t 2625  &    86\\\\\n",
       "\t 2752  &    81\\\\\n",
       "\t 2768  &    71\\\\\n",
       "\t 2770  &     8\\\\\n",
       "\t 2790  &    50\\\\\n",
       "\t 2796  &     1\\\\\n",
       "\t 2802  &   142\\\\\n",
       "\t 2805  &   126\\\\\n",
       "\t 2857  &     3\\\\\n",
       "\t 2862  &    13\\\\\n",
       "\t 2907  &     3\\\\\n",
       "\t 2973  &    11\\\\\n",
       "\t 2977  &     3\\\\\n",
       "\t 2983  &    70\\\\\n",
       "\t 2984  &    19\\\\\n",
       "\t 3140  &    35\\\\\n",
       "\t 3204  &    20\\\\\n",
       "\t 3263  &    11\\\\\n",
       "\t 3264  &     1\\\\\n",
       "\t 3316  &     3\\\\\n",
       "\t 3329  &    55\\\\\n",
       "\t 3377  &     1\\\\\n",
       "\t 3441  &    63\\\\\n",
       "\t 3512  &     4\\\\\n",
       "\t 3517  &    17\\\\\n",
       "\t 3520  &    63\\\\\n",
       "\t 4747  &    35\\\\\n",
       "\t 4863  &    25\\\\\n",
       "\t 4902  &    68\\\\\n",
       "\t ... & ...\\\\\n",
       "\t 701154 &  1    \\\\\n",
       "\t 703659 &  1    \\\\\n",
       "\t 704523 &  3    \\\\\n",
       "\t 705484 &  3    \\\\\n",
       "\t 706985 &  1    \\\\\n",
       "\t 710807 &  1    \\\\\n",
       "\t 715642 &  1    \\\\\n",
       "\t 716998 &  1    \\\\\n",
       "\t 717248 &  3    \\\\\n",
       "\t 717270 &  1    \\\\\n",
       "\t 717557 &  4    \\\\\n",
       "\t 719413 &  3    \\\\\n",
       "\t 720738 &  5    \\\\\n",
       "\t 721133 & 15    \\\\\n",
       "\t 722766 & 10    \\\\\n",
       "\t 723037 &  7    \\\\\n",
       "\t 725718 &  1    \\\\\n",
       "\t 726956 &  4    \\\\\n",
       "\t 728125 &  2    \\\\\n",
       "\t 728414 &  1    \\\\\n",
       "\t 728478 &  1    \\\\\n",
       "\t 730065 &  1    \\\\\n",
       "\t 733787 &  1    \\\\\n",
       "\t 742405 &  1    \\\\\n",
       "\t 743720 &  1    \\\\\n",
       "\t 744907 &  1    \\\\\n",
       "\t 746419 &  1    \\\\\n",
       "\t 748432 &  1    \\\\\n",
       "\t 750435 &  1    \\\\\n",
       "\t 750584 &  1    \\\\\n",
       "\\end{tabular}\n"
      ],
      "text/markdown": [
       "\n",
       "player | appearances | \n",
       "|---|---|---|---|---|---|---|---|---|---|---|---|---|---|---|---|---|---|---|---|---|---|---|---|---|---|---|---|---|---|---|---|---|---|---|---|---|---|---|---|---|---|---|---|---|---|---|---|---|---|---|---|---|---|---|---|---|---|---|---|---|\n",
       "|   NA  | 29257 | \n",
       "| 2625  |    86 | \n",
       "| 2752  |    81 | \n",
       "| 2768  |    71 | \n",
       "| 2770  |     8 | \n",
       "| 2790  |    50 | \n",
       "| 2796  |     1 | \n",
       "| 2802  |   142 | \n",
       "| 2805  |   126 | \n",
       "| 2857  |     3 | \n",
       "| 2862  |    13 | \n",
       "| 2907  |     3 | \n",
       "| 2973  |    11 | \n",
       "| 2977  |     3 | \n",
       "| 2983  |    70 | \n",
       "| 2984  |    19 | \n",
       "| 3140  |    35 | \n",
       "| 3204  |    20 | \n",
       "| 3263  |    11 | \n",
       "| 3264  |     1 | \n",
       "| 3316  |     3 | \n",
       "| 3329  |    55 | \n",
       "| 3377  |     1 | \n",
       "| 3441  |    63 | \n",
       "| 3512  |     4 | \n",
       "| 3517  |    17 | \n",
       "| 3520  |    63 | \n",
       "| 4747  |    35 | \n",
       "| 4863  |    25 | \n",
       "| 4902  |    68 | \n",
       "| ... | ... | \n",
       "| 701154 |  1     | \n",
       "| 703659 |  1     | \n",
       "| 704523 |  3     | \n",
       "| 705484 |  3     | \n",
       "| 706985 |  1     | \n",
       "| 710807 |  1     | \n",
       "| 715642 |  1     | \n",
       "| 716998 |  1     | \n",
       "| 717248 |  3     | \n",
       "| 717270 |  1     | \n",
       "| 717557 |  4     | \n",
       "| 719413 |  3     | \n",
       "| 720738 |  5     | \n",
       "| 721133 | 15     | \n",
       "| 722766 | 10     | \n",
       "| 723037 |  7     | \n",
       "| 725718 |  1     | \n",
       "| 726956 |  4     | \n",
       "| 728125 |  2     | \n",
       "| 728414 |  1     | \n",
       "| 728478 |  1     | \n",
       "| 730065 |  1     | \n",
       "| 733787 |  1     | \n",
       "| 742405 |  1     | \n",
       "| 743720 |  1     | \n",
       "| 744907 |  1     | \n",
       "| 746419 |  1     | \n",
       "| 748432 |  1     | \n",
       "| 750435 |  1     | \n",
       "| 750584 |  1     | \n",
       "\n",
       "\n"
      ],
      "text/plain": [
       "      player appearances\n",
       "1       NA   29257      \n",
       "2     2625      86      \n",
       "3     2752      81      \n",
       "4     2768      71      \n",
       "5     2770       8      \n",
       "6     2790      50      \n",
       "7     2796       1      \n",
       "8     2802     142      \n",
       "9     2805     126      \n",
       "10    2857       3      \n",
       "11    2862      13      \n",
       "12    2907       3      \n",
       "13    2973      11      \n",
       "14    2977       3      \n",
       "15    2983      70      \n",
       "16    2984      19      \n",
       "17    3140      35      \n",
       "18    3204      20      \n",
       "19    3263      11      \n",
       "20    3264       1      \n",
       "21    3316       3      \n",
       "22    3329      55      \n",
       "23    3377       1      \n",
       "24    3441      63      \n",
       "25    3512       4      \n",
       "26    3517      17      \n",
       "27    3520      63      \n",
       "28    4747      35      \n",
       "29    4863      25      \n",
       "30    4902      68      \n",
       "...   ...    ...        \n",
       "11032 701154  1         \n",
       "11033 703659  1         \n",
       "11034 704523  3         \n",
       "11035 705484  3         \n",
       "11036 706985  1         \n",
       "11037 710807  1         \n",
       "11038 715642  1         \n",
       "11039 716998  1         \n",
       "11040 717248  3         \n",
       "11041 717270  1         \n",
       "11042 717557  4         \n",
       "11043 719413  3         \n",
       "11044 720738  5         \n",
       "11045 721133 15         \n",
       "11046 722766 10         \n",
       "11047 723037  7         \n",
       "11048 725718  1         \n",
       "11049 726956  4         \n",
       "11050 728125  2         \n",
       "11051 728414  1         \n",
       "11052 728478  1         \n",
       "11053 730065  1         \n",
       "11054 733787  1         \n",
       "11055 742405  1         \n",
       "11056 743720  1         \n",
       "11057 744907  1         \n",
       "11058 746419  1         \n",
       "11059 748432  1         \n",
       "11060 750435  1         \n",
       "11061 750584  1         "
      ]
     },
     "metadata": {},
     "output_type": "display_data"
    }
   ],
   "source": [
    "noOfApp"
   ]
  },
  {
   "cell_type": "code",
   "execution_count": 85,
   "metadata": {
    "collapsed": false
   },
   "outputs": [
    {
     "data": {
      "text/html": [
       "11061"
      ],
      "text/latex": [
       "11061"
      ],
      "text/markdown": [
       "11061"
      ],
      "text/plain": [
       "[1] 11061"
      ]
     },
     "metadata": {},
     "output_type": "display_data"
    }
   ],
   "source": [
    "length(noOfApp[[1]])"
   ]
  },
  {
   "cell_type": "markdown",
   "metadata": {},
   "source": [
    "Calculating number of leagues for each player"
   ]
  },
  {
   "cell_type": "code",
   "execution_count": 86,
   "metadata": {
    "collapsed": true
   },
   "outputs": [],
   "source": [
    "leagues <- data.frame(tbl(my_db, sql(\"select player, count(*) as leagues from(\n",
    "                select distinct player, league_id from (\n",
    "                SELECT league_id, home_player_1 as player FROM Match\n",
    "                union\n",
    "                SELECT league_id, home_player_2 as player FROM Match\n",
    "                union\n",
    "                SELECT league_id, home_player_3 as player FROM Match\n",
    "                union\n",
    "                SELECT league_id, home_player_4 as player FROM Match\n",
    "                union\n",
    "                SELECT league_id, home_player_5 as player FROM Match\n",
    "                union\n",
    "                SELECT league_id, home_player_6 as player FROM Match\n",
    "                union\n",
    "                SELECT league_id, home_player_7 as player FROM Match\n",
    "                union\n",
    "                SELECT league_id, home_player_8 as player FROM Match\n",
    "                union\n",
    "                SELECT league_id, home_player_9 as player FROM Match\n",
    "                union\n",
    "                SELECT league_id, home_player_10 as player FROM Match\n",
    "                union\n",
    "                SELECT league_id, home_player_11 as player FROM Match\n",
    "                union\n",
    "                SELECT league_id, away_player_1 as player FROM Match\n",
    "                union\n",
    "                SELECT league_id, away_player_2 as player FROM Match\n",
    "                union\n",
    "                SELECT league_id, away_player_3 as player FROM Match\n",
    "                union\n",
    "                SELECT league_id, away_player_4 as player FROM Match\n",
    "                union\n",
    "                SELECT league_id, away_player_5 as player FROM Match\n",
    "                union\n",
    "                SELECT league_id, away_player_6 as player FROM Match\n",
    "                union\n",
    "                SELECT league_id, away_player_7 as player FROM Match\n",
    "                union\n",
    "                SELECT league_id, away_player_8 as player FROM Match\n",
    "                union\n",
    "                SELECT league_id, away_player_9 as player FROM Match\n",
    "                union\n",
    "                SELECT league_id, away_player_10 as player FROM Match\n",
    "                union\n",
    "                SELECT league_id, away_player_11 as player FROM Match\n",
    "                )\n",
    "               group by player, league_id)\n",
    "               group by player\")))"
   ]
  },
  {
   "cell_type": "markdown",
   "metadata": {},
   "source": [
    "Reading sqldf library for performing sql queries on data frames"
   ]
  },
  {
   "cell_type": "code",
   "execution_count": 87,
   "metadata": {
    "collapsed": false
   },
   "outputs": [],
   "source": [
    "library(sqldf)"
   ]
  },
  {
   "cell_type": "markdown",
   "metadata": {},
   "source": [
    "Calculating overall rating and gk rating for each player"
   ]
  },
  {
   "cell_type": "code",
   "execution_count": 88,
   "metadata": {
    "collapsed": true
   },
   "outputs": [],
   "source": [
    "rating <- data.frame(tbl(my_db, sql(\"select player_api_id as player, overall_rating, MAX(gk_rating) as gk_rating from (\n",
    "               select player_api_id, overall_rating, (gk_diving + gk_handling + gk_kicking + gk_positioning + gk_reflexes) as gk_rating from Player_Attributes)\n",
    "               group by player_api_id\")))"
   ]
  },
  {
   "cell_type": "markdown",
   "metadata": {},
   "source": [
    "Aggregating different variables of player in single table"
   ]
  },
  {
   "cell_type": "code",
   "execution_count": 89,
   "metadata": {
    "collapsed": false
   },
   "outputs": [],
   "source": [
    "temp <- sqldf(\"select rating.player, rating.overall_rating, rating.gk_rating, leagues.leagues\n",
    "              from rating\n",
    "              join leagues\n",
    "              on rating.player=leagues.player\")"
   ]
  },
  {
   "cell_type": "code",
   "execution_count": 90,
   "metadata": {
    "collapsed": true
   },
   "outputs": [],
   "source": [
    "temp1 <- sqldf(\"select temp.player, temp.overall_rating, temp.gk_rating, temp.leagues,   noOfApp.appearances\n",
    "                  from temp\n",
    "                  join noOfApp\n",
    "                  on temp.player=noOfApp.player\")"
   ]
  },
  {
   "cell_type": "markdown",
   "metadata": {},
   "source": [
    "getting player name and adding it to main table"
   ]
  },
  {
   "cell_type": "code",
   "execution_count": 91,
   "metadata": {
    "collapsed": true
   },
   "outputs": [],
   "source": [
    "playernames <- data.frame(tbl(my_db, sql(\"select player_api_id, player_name from Player\")))"
   ]
  },
  {
   "cell_type": "code",
   "execution_count": 92,
   "metadata": {
    "collapsed": true
   },
   "outputs": [],
   "source": [
    "player <- sqldf(\"select temp1.player, temp1.overall_rating, temp1.gk_rating, temp1.leagues,   temp1.appearances, playernames.player_name as names\n",
    "                  from temp1\n",
    "                  join playernames\n",
    "                  on temp1.player=playernames.player_api_id\")"
   ]
  },
  {
   "cell_type": "markdown",
   "metadata": {},
   "source": [
    "calculating builupplay, chancecreation and defence aggression for each team"
   ]
  },
  {
   "cell_type": "code",
   "execution_count": 93,
   "metadata": {
    "collapsed": true
   },
   "outputs": [],
   "source": [
    "teamTemp <- data.frame(tbl(my_db, sql(\"select team_api_id, \n",
    "                (buildUpPlaySpeed + buildUpPlayDribbling + buildUpPlayPassing) as buildUpPlay,\n",
    "                (chanceCreationPassing + chanceCreationCrossing + chanceCreationShooting) as chanceCreation,\n",
    "                (defencePressure + defenceAggression + defenceTeamWidth) as defence\n",
    "                from Team_Attributes\")))"
   ]
  },
  {
   "cell_type": "code",
   "execution_count": 94,
   "metadata": {
    "collapsed": false
   },
   "outputs": [
    {
     "data": {
      "text/plain": [
       "Source:   query [?? x 5]\n",
       "Database: sqlite 3.11.1 [database.sqlite]\n",
       "\n",
       "      id team_api_id team_fifa_api_id    team_long_name team_short_name\n",
       "   <int>       <int>            <int>             <chr>           <chr>\n",
       "1      1        9987              673          KRC Genk             GEN\n",
       "2      2        9993              675      Beerschot AC             BAC\n",
       "3      3       10000            15005  SV Zulte-Waregem             ZUL\n",
       "4      4        9994             2007  Sporting Lokeren             LOK\n",
       "5      5        9984             1750 KSV Cercle Brugge             CEB\n",
       "6      6        8635              229    RSC Anderlecht             AND\n",
       "7      7        9991              674          KAA Gent             GEN\n",
       "8      8        9998             1747         RAEC Mons             MON\n",
       "9      9        7947               NA     FCV Dender EH             DEN\n",
       "10    10        9985              232 Standard de Liège             STL\n",
       "# ... with more rows"
      ]
     },
     "metadata": {},
     "output_type": "display_data"
    }
   ],
   "source": [
    "team"
   ]
  },
  {
   "cell_type": "markdown",
   "metadata": {},
   "source": [
    "Getting full name of each team from team_api_id"
   ]
  },
  {
   "cell_type": "code",
   "execution_count": 95,
   "metadata": {
    "collapsed": true
   },
   "outputs": [],
   "source": [
    "teamName <- data.frame(tbl(my_db, sql(\"select team_api_id, team_long_name from Team\")))"
   ]
  },
  {
   "cell_type": "markdown",
   "metadata": {},
   "source": [
    "aggregating different columns of team table"
   ]
  },
  {
   "cell_type": "code",
   "execution_count": 96,
   "metadata": {
    "collapsed": false
   },
   "outputs": [],
   "source": [
    "team <- sqldf(\"select teamTemp.team_api_id, teamTemp.buildUpPlay, teamTemp.chanceCreation, teamTemp.defence, teamName.team_long_name\n",
    "                                    from teamTemp\n",
    "                                    join teamName\n",
    "                                    on teamTemp.team_api_id=teamName.team_api_id\")"
   ]
  },
  {
   "cell_type": "markdown",
   "metadata": {},
   "source": [
    "writing players table to csv file"
   ]
  },
  {
   "cell_type": "code",
   "execution_count": 97,
   "metadata": {
    "collapsed": true
   },
   "outputs": [],
   "source": [
    "write.csv(player, file = \"players.csv\")"
   ]
  },
  {
   "cell_type": "code",
   "execution_count": 98,
   "metadata": {
    "collapsed": false
   },
   "outputs": [
    {
     "data": {
      "text/plain": [
       "Source:   query [?? x 115]\n",
       "Database: sqlite 3.11.1 [database.sqlite]\n",
       "\n",
       "      id country_id league_id    season stage                date match_api_id\n",
       "   <int>      <int>     <int>     <chr> <int>               <chr>        <int>\n",
       "1      1          1         1 2008/2009     1 2008-08-17 00:00:00       492473\n",
       "2      2          1         1 2008/2009     1 2008-08-16 00:00:00       492474\n",
       "3      3          1         1 2008/2009     1 2008-08-16 00:00:00       492475\n",
       "4      4          1         1 2008/2009     1 2008-08-17 00:00:00       492476\n",
       "5      5          1         1 2008/2009     1 2008-08-16 00:00:00       492477\n",
       "6      6          1         1 2008/2009     1 2008-09-24 00:00:00       492478\n",
       "7      7          1         1 2008/2009     1 2008-08-16 00:00:00       492479\n",
       "8      8          1         1 2008/2009     1 2008-08-16 00:00:00       492480\n",
       "9      9          1         1 2008/2009     1 2008-08-16 00:00:00       492481\n",
       "10    10          1         1 2008/2009    10 2008-11-01 00:00:00       492564\n",
       "# ... with more rows, and 108 more variables: home_team_api_id <int>,\n",
       "#   away_team_api_id <int>, home_team_goal <int>, away_team_goal <int>,\n",
       "#   home_player_X1 <int>, home_player_X2 <int>, home_player_X3 <int>,\n",
       "#   home_player_X4 <int>, home_player_X5 <int>, home_player_X6 <int>,\n",
       "#   home_player_X7 <int>, home_player_X8 <int>, home_player_X9 <int>,\n",
       "#   home_player_X10 <int>, home_player_X11 <int>, away_player_X1 <int>,\n",
       "#   away_player_X2 <int>, away_player_X3 <int>, away_player_X4 <int>,\n",
       "#   away_player_X5 <int>, away_player_X6 <int>, away_player_X7 <int>,\n",
       "#   away_player_X8 <int>, away_player_X9 <int>, away_player_X10 <int>,\n",
       "#   away_player_X11 <int>, home_player_Y1 <int>, home_player_Y2 <int>,\n",
       "#   home_player_Y3 <int>, home_player_Y4 <int>, home_player_Y5 <int>,\n",
       "#   home_player_Y6 <int>, home_player_Y7 <int>, home_player_Y8 <int>,\n",
       "#   home_player_Y9 <int>, home_player_Y10 <int>, home_player_Y11 <int>,\n",
       "#   away_player_Y1 <int>, away_player_Y2 <int>, away_player_Y3 <int>,\n",
       "#   away_player_Y4 <int>, away_player_Y5 <int>, away_player_Y6 <int>,\n",
       "#   away_player_Y7 <int>, away_player_Y8 <int>, away_player_Y9 <int>,\n",
       "#   away_player_Y10 <int>, away_player_Y11 <int>, home_player_1 <int>,\n",
       "#   home_player_2 <int>, home_player_3 <int>, home_player_4 <int>,\n",
       "#   home_player_5 <int>, home_player_6 <int>, home_player_7 <int>,\n",
       "#   home_player_8 <int>, home_player_9 <int>, home_player_10 <int>,\n",
       "#   home_player_11 <int>, away_player_1 <int>, away_player_2 <int>,\n",
       "#   away_player_3 <int>, away_player_4 <int>, away_player_5 <int>,\n",
       "#   away_player_6 <int>, away_player_7 <int>, away_player_8 <int>,\n",
       "#   away_player_9 <int>, away_player_10 <int>, away_player_11 <int>,\n",
       "#   goal <chr>, shoton <chr>, shotoff <chr>, foulcommit <chr>, card <chr>,\n",
       "#   cross <chr>, corner <chr>, possession <chr>, B365H <dbl>, B365D <dbl>,\n",
       "#   B365A <int>, BWH <dbl>, BWD <dbl>, BWA <dbl>, IWH <dbl>, IWD <dbl>,\n",
       "#   IWA <dbl>, LBH <dbl>, LBD <dbl>, LBA <dbl>, PSH <dbl>, PSD <dbl>,\n",
       "#   PSA <dbl>, WHH <dbl>, WHD <dbl>, WHA <dbl>, SJH <dbl>, SJD <dbl>,\n",
       "#   SJA <int>, VCH <dbl>, ..."
      ]
     },
     "metadata": {},
     "output_type": "display_data"
    }
   ],
   "source": [
    "tbl(my_db, sql(\"select * from Match\"))"
   ]
  },
  {
   "cell_type": "markdown",
   "metadata": {},
   "source": [
    "Calculating goals of home team and away for each match and then adding it for each team"
   ]
  },
  {
   "cell_type": "code",
   "execution_count": 99,
   "metadata": {
    "collapsed": true
   },
   "outputs": [],
   "source": [
    "homeTeam <- data.frame(tbl(my_db, sql(\"select home_team_api_id as team_id, sum(home_team_goal) as goals from Match group by team_id\")))"
   ]
  },
  {
   "cell_type": "code",
   "execution_count": 100,
   "metadata": {
    "collapsed": true
   },
   "outputs": [],
   "source": [
    "awayTeam <- data.frame(tbl(my_db, sql(\"select away_team_api_id as team_id, sum(away_team_goal) as goals from Match group by team_id\")))"
   ]
  },
  {
   "cell_type": "code",
   "execution_count": 101,
   "metadata": {
    "collapsed": true
   },
   "outputs": [],
   "source": [
    "goals <- sqldf(\"select homeTeam.team_id as teamid, (homeTeam.goals + awayTeam.goals) as goals from homeTeam, awayTeam where homeTeam.team_id=awayTeam.team_id group by teamid\")"
   ]
  },
  {
   "cell_type": "markdown",
   "metadata": {},
   "source": [
    "Adding goals column to team data frame"
   ]
  },
  {
   "cell_type": "code",
   "execution_count": 102,
   "metadata": {
    "collapsed": false
   },
   "outputs": [],
   "source": [
    "team <- sqldf(\"select team.team_api_id, team.buildUpPlay, team.chanceCreation, team.defence, team.team_long_name, goals.goals\n",
    "                                    from team\n",
    "                                    join goals\n",
    "                                    on team.team_api_id=goals.teamid\n",
    "                                    group by team_api_id\")"
   ]
  },
  {
   "cell_type": "code",
   "execution_count": 106,
   "metadata": {
    "collapsed": false
   },
   "outputs": [
    {
     "data": {
      "text/html": [
       "<table>\n",
       "<thead><tr><th scope=col>team_api_id</th><th scope=col>buildUpPlay</th><th scope=col>chanceCreation</th><th scope=col>defence</th><th scope=col>team_long_name</th><th scope=col>goals</th></tr></thead>\n",
       "<tbody>\n",
       "\t<tr><td>1601                    </td><td>133                     </td><td>176                     </td><td>136                     </td><td>Ruch Chorzów            </td><td>280                     </td></tr>\n",
       "\t<tr><td>1773                    </td><td>153                     </td><td>157                     </td><td>137                     </td><td>Oud-Heverlee Leuven     </td><td>126                     </td></tr>\n",
       "\t<tr><td>1957                    </td><td>158                     </td><td>152                     </td><td>162                     </td><td>Jagiellonia Bialystok   </td><td>287                     </td></tr>\n",
       "\t<tr><td>2033                    </td><td>147                     </td><td>134                     </td><td>105                     </td><td>S.C. Olhanense          </td><td>138                     </td></tr>\n",
       "\t<tr><td>2182                    </td><td>147                     </td><td>196                     </td><td>153                     </td><td>Lech Poznan             </td><td>372                     </td></tr>\n",
       "\t<tr><td>2183                    </td><td> NA                     </td><td>131                     </td><td>139                     </td><td>P. Warszawa             </td><td>184                     </td></tr>\n",
       "\t<tr><td>2186                    </td><td>125                     </td><td>165                     </td><td>157                     </td><td>Cracovia                </td><td>235                     </td></tr>\n",
       "\t<tr><td>4087                    </td><td>149                     </td><td>164                     </td><td>140                     </td><td>Évian Thonon Gaillard FC</td><td>180                     </td></tr>\n",
       "\t<tr><td>4170                    </td><td> NA                     </td><td>154                     </td><td>155                     </td><td>US Boulogne Cote D'Opale</td><td> 31                     </td></tr>\n",
       "\t<tr><td>6269                    </td><td>179                     </td><td>168                     </td><td>138                     </td><td>Novara                  </td><td> 34                     </td></tr>\n",
       "\t<tr><td>6351                    </td><td> NA                     </td><td>160                     </td><td>155                     </td><td>KAS Eupen               </td><td> 28                     </td></tr>\n",
       "\t<tr><td>6391                    </td><td>153                     </td><td>163                     </td><td>141                     </td><td>GFC Ajaccio             </td><td> 37                     </td></tr>\n",
       "\t<tr><td>6403                    </td><td>142                     </td><td>169                     </td><td>139                     </td><td>FC Paços de Ferreira    </td><td>292                     </td></tr>\n",
       "\t<tr><td>6413                    </td><td>136                     </td><td>165                     </td><td>181                     </td><td>PEC Zwolle              </td><td>204                     </td></tr>\n",
       "\t<tr><td>6421                    </td><td> NA                     </td><td>165                     </td><td> 90                     </td><td>Leixões SC              </td><td> 55                     </td></tr>\n",
       "\t<tr><td>6433                    </td><td>160                     </td><td>131                     </td><td>141                     </td><td>Go Ahead Eagles         </td><td> 74                     </td></tr>\n",
       "\t<tr><td>6493                    </td><td> NA                     </td><td>148                     </td><td>138                     </td><td>AC Bellinzona           </td><td>128                     </td></tr>\n",
       "\t<tr><td>6547                    </td><td>147                     </td><td>146                     </td><td>121                     </td><td>FC Penafiel             </td><td> 29                     </td></tr>\n",
       "\t<tr><td>6631                    </td><td>134                     </td><td>176                     </td><td>164                     </td><td>FC Dordrecht            </td><td> 24                     </td></tr>\n",
       "\t<tr><td>7730                    </td><td>141                     </td><td>164                     </td><td>145                     </td><td>FC Lausanne-Sports      </td><td> 99                     </td></tr>\n",
       "\t<tr><td>7788                    </td><td>136                     </td><td>134                     </td><td>138                     </td><td>SC Cambuur              </td><td>119                     </td></tr>\n",
       "\t<tr><td>7794                    </td><td>174                     </td><td>156                     </td><td>147                     </td><td>SC Bastia               </td><td>165                     </td></tr>\n",
       "\t<tr><td>7819                    </td><td>157                     </td><td>155                     </td><td>136                     </td><td>SM Caen                 </td><td>220                     </td></tr>\n",
       "\t<tr><td>7841                    </td><td>157                     </td><td>177                     </td><td>153                     </td><td>Rio Ave FC              </td><td>248                     </td></tr>\n",
       "\t<tr><td>7842                    </td><td>167                     </td><td>139                     </td><td>150                     </td><td>Estoril Praia           </td><td>167                     </td></tr>\n",
       "\t<tr><td>7844                    </td><td>131                     </td><td>173                     </td><td>141                     </td><td>Vitória Guimarães       </td><td>300                     </td></tr>\n",
       "\t<tr><td>7869                    </td><td>141                     </td><td>171                     </td><td>129                     </td><td>Córdoba CF              </td><td> 22                     </td></tr>\n",
       "\t<tr><td>7878                    </td><td>166                     </td><td>175                     </td><td>155                     </td><td>Granada CF              </td><td>179                     </td></tr>\n",
       "\t<tr><td>7943                    </td><td>182                     </td><td>169                     </td><td>138                     </td><td>Sassuolo                </td><td>141                     </td></tr>\n",
       "\t<tr><td>7955                    </td><td> NA                     </td><td>121                     </td><td>116                     </td><td>Neuchâtel Xamax         </td><td>171                     </td></tr>\n",
       "\t<tr><td>...</td><td>...</td><td>...</td><td>...</td><td>...</td><td>...</td></tr>\n",
       "\t<tr><td> 10211                 </td><td> NA                    </td><td>165                    </td><td>150                    </td><td>SC Beira Mar           </td><td> 93                    </td></tr>\n",
       "\t<tr><td> 10212                 </td><td>176                    </td><td>186                    </td><td>133                    </td><td>CS Marítimo            </td><td>316                    </td></tr>\n",
       "\t<tr><td> 10214                 </td><td>167                    </td><td>150                    </td><td>141                    </td><td>CD Nacional            </td><td>332                    </td></tr>\n",
       "\t<tr><td> 10215                 </td><td>150                    </td><td>166                    </td><td>138                    </td><td>Académica de Coimbra   </td><td>240                    </td></tr>\n",
       "\t<tr><td> 10217                 </td><td>162                    </td><td>145                    </td><td>142                    </td><td>ADO Den Haag           </td><td>366                    </td></tr>\n",
       "\t<tr><td> 10218                 </td><td>163                    </td><td>136                    </td><td>106                    </td><td>Excelsior              </td><td>154                    </td></tr>\n",
       "\t<tr><td> 10219                 </td><td>142                    </td><td>133                    </td><td> 99                    </td><td>RKC Waalwijk           </td><td>153                    </td></tr>\n",
       "\t<tr><td> 10228                 </td><td>150                    </td><td>152                    </td><td>138                    </td><td>SC Heerenveen          </td><td>470                    </td></tr>\n",
       "\t<tr><td> 10229                 </td><td>154                    </td><td>173                    </td><td>166                    </td><td>AZ                     </td><td>492                    </td></tr>\n",
       "\t<tr><td> 10233                 </td><td>184                    </td><td>134                    </td><td>127                    </td><td>Genoa                  </td><td>392                    </td></tr>\n",
       "\t<tr><td> 10235                 </td><td>131                    </td><td>146                    </td><td>129                    </td><td>Feyenoord              </td><td>489                    </td></tr>\n",
       "\t<tr><td> 10238                 </td><td>149                    </td><td>158                    </td><td>132                    </td><td>Vitória Setúbal        </td><td>238                    </td></tr>\n",
       "\t<tr><td> 10242                 </td><td>148                    </td><td>147                    </td><td>137                    </td><td>ES Troyes AC           </td><td> 71                    </td></tr>\n",
       "\t<tr><td> 10243                 </td><td>157                    </td><td>151                    </td><td>146                    </td><td>FC Zürich              </td><td>468                    </td></tr>\n",
       "\t<tr><td> 10249                 </td><td>162                    </td><td>142                    </td><td>157                    </td><td>Montpellier Hérault SC </td><td>344                    </td></tr>\n",
       "\t<tr><td> 10251                 </td><td>148                    </td><td>139                    </td><td>124                    </td><td>Hibernian              </td><td>259                    </td></tr>\n",
       "\t<tr><td> 10252                 </td><td>154                    </td><td>146                    </td><td>133                    </td><td>Aston Villa            </td><td>335                    </td></tr>\n",
       "\t<tr><td> 10260                 </td><td>124                    </td><td>133                    </td><td>163                    </td><td>Manchester United      </td><td>582                    </td></tr>\n",
       "\t<tr><td> 10261                 </td><td>152                    </td><td>147                    </td><td>131                    </td><td>Newcastle United       </td><td>324                    </td></tr>\n",
       "\t<tr><td> 10264                 </td><td>145                    </td><td>166                    </td><td>120                    </td><td>SC Braga               </td><td>398                    </td></tr>\n",
       "\t<tr><td> 10265                 </td><td>119                    </td><td>101                    </td><td>157                    </td><td>Wisla Kraków           </td><td>332                    </td></tr>\n",
       "\t<tr><td> 10267                 </td><td>116                    </td><td>146                    </td><td>147                    </td><td>Valencia CF            </td><td>484                    </td></tr>\n",
       "\t<tr><td> 10268                 </td><td>151                    </td><td>164                    </td><td>158                    </td><td>Elche CF               </td><td> 65                    </td></tr>\n",
       "\t<tr><td> 10269                 </td><td>155                    </td><td>172                    </td><td>117                    </td><td>VfB Stuttgart          </td><td>415                    </td></tr>\n",
       "\t<tr><td> 10278                 </td><td>154                    </td><td>178                    </td><td>160                    </td><td>Hércules Club de Fútbol</td><td> 36                    </td></tr>\n",
       "\t<tr><td> 10281                 </td><td>148                    </td><td>147                    </td><td>134                    </td><td>Real Valladolid        </td><td>170                    </td></tr>\n",
       "\t<tr><td>108893                 </td><td>156                    </td><td>138                    </td><td>158                    </td><td>AC Arles-Avignon       </td><td> 21                    </td></tr>\n",
       "\t<tr><td>158085                 </td><td>170                    </td><td>160                    </td><td>113                    </td><td>FC Arouca              </td><td>101                    </td></tr>\n",
       "\t<tr><td>208931                 </td><td>190                    </td><td>160                    </td><td>115                    </td><td>Carpi                  </td><td> 37                    </td></tr>\n",
       "\t<tr><td>274581                 </td><td>150                    </td><td>150                    </td><td>140                    </td><td>Royal Excel Mouscron   </td><td> 71                    </td></tr>\n",
       "</tbody>\n",
       "</table>\n"
      ],
      "text/latex": [
       "\\begin{tabular}{r|llllll}\n",
       " team\\_api\\_id & buildUpPlay & chanceCreation & defence & team\\_long\\_name & goals\\\\\n",
       "\\hline\n",
       "\t 1601                     & 133                      & 176                      & 136                      & Ruch Chorzów             & 280                     \\\\\n",
       "\t 1773                     & 153                      & 157                      & 137                      & Oud-Heverlee Leuven      & 126                     \\\\\n",
       "\t 1957                     & 158                      & 152                      & 162                      & Jagiellonia Bialystok    & 287                     \\\\\n",
       "\t 2033                     & 147                      & 134                      & 105                      & S.C. Olhanense           & 138                     \\\\\n",
       "\t 2182                     & 147                      & 196                      & 153                      & Lech Poznan              & 372                     \\\\\n",
       "\t 2183                     &  NA                      & 131                      & 139                      & P. Warszawa              & 184                     \\\\\n",
       "\t 2186                     & 125                      & 165                      & 157                      & Cracovia                 & 235                     \\\\\n",
       "\t 4087                     & 149                      & 164                      & 140                      & Évian Thonon Gaillard FC & 180                     \\\\\n",
       "\t 4170                     &  NA                      & 154                      & 155                      & US Boulogne Cote D'Opale &  31                     \\\\\n",
       "\t 6269                     & 179                      & 168                      & 138                      & Novara                   &  34                     \\\\\n",
       "\t 6351                     &  NA                      & 160                      & 155                      & KAS Eupen                &  28                     \\\\\n",
       "\t 6391                     & 153                      & 163                      & 141                      & GFC Ajaccio              &  37                     \\\\\n",
       "\t 6403                     & 142                      & 169                      & 139                      & FC Paços de Ferreira     & 292                     \\\\\n",
       "\t 6413                     & 136                      & 165                      & 181                      & PEC Zwolle               & 204                     \\\\\n",
       "\t 6421                     &  NA                      & 165                      &  90                      & Leixões SC               &  55                     \\\\\n",
       "\t 6433                     & 160                      & 131                      & 141                      & Go Ahead Eagles          &  74                     \\\\\n",
       "\t 6493                     &  NA                      & 148                      & 138                      & AC Bellinzona            & 128                     \\\\\n",
       "\t 6547                     & 147                      & 146                      & 121                      & FC Penafiel              &  29                     \\\\\n",
       "\t 6631                     & 134                      & 176                      & 164                      & FC Dordrecht             &  24                     \\\\\n",
       "\t 7730                     & 141                      & 164                      & 145                      & FC Lausanne-Sports       &  99                     \\\\\n",
       "\t 7788                     & 136                      & 134                      & 138                      & SC Cambuur               & 119                     \\\\\n",
       "\t 7794                     & 174                      & 156                      & 147                      & SC Bastia                & 165                     \\\\\n",
       "\t 7819                     & 157                      & 155                      & 136                      & SM Caen                  & 220                     \\\\\n",
       "\t 7841                     & 157                      & 177                      & 153                      & Rio Ave FC               & 248                     \\\\\n",
       "\t 7842                     & 167                      & 139                      & 150                      & Estoril Praia            & 167                     \\\\\n",
       "\t 7844                     & 131                      & 173                      & 141                      & Vitória Guimarães        & 300                     \\\\\n",
       "\t 7869                     & 141                      & 171                      & 129                      & Córdoba CF               &  22                     \\\\\n",
       "\t 7878                     & 166                      & 175                      & 155                      & Granada CF               & 179                     \\\\\n",
       "\t 7943                     & 182                      & 169                      & 138                      & Sassuolo                 & 141                     \\\\\n",
       "\t 7955                     &  NA                      & 121                      & 116                      & Neuchâtel Xamax          & 171                     \\\\\n",
       "\t ... & ... & ... & ... & ... & ...\\\\\n",
       "\t  10211                  &  NA                     & 165                     & 150                     & SC Beira Mar            &  93                    \\\\\n",
       "\t  10212                  & 176                     & 186                     & 133                     & CS Marítimo             & 316                    \\\\\n",
       "\t  10214                  & 167                     & 150                     & 141                     & CD Nacional             & 332                    \\\\\n",
       "\t  10215                  & 150                     & 166                     & 138                     & Académica de Coimbra    & 240                    \\\\\n",
       "\t  10217                  & 162                     & 145                     & 142                     & ADO Den Haag            & 366                    \\\\\n",
       "\t  10218                  & 163                     & 136                     & 106                     & Excelsior               & 154                    \\\\\n",
       "\t  10219                  & 142                     & 133                     &  99                     & RKC Waalwijk            & 153                    \\\\\n",
       "\t  10228                  & 150                     & 152                     & 138                     & SC Heerenveen           & 470                    \\\\\n",
       "\t  10229                  & 154                     & 173                     & 166                     & AZ                      & 492                    \\\\\n",
       "\t  10233                  & 184                     & 134                     & 127                     & Genoa                   & 392                    \\\\\n",
       "\t  10235                  & 131                     & 146                     & 129                     & Feyenoord               & 489                    \\\\\n",
       "\t  10238                  & 149                     & 158                     & 132                     & Vitória Setúbal         & 238                    \\\\\n",
       "\t  10242                  & 148                     & 147                     & 137                     & ES Troyes AC            &  71                    \\\\\n",
       "\t  10243                  & 157                     & 151                     & 146                     & FC Zürich               & 468                    \\\\\n",
       "\t  10249                  & 162                     & 142                     & 157                     & Montpellier Hérault SC  & 344                    \\\\\n",
       "\t  10251                  & 148                     & 139                     & 124                     & Hibernian               & 259                    \\\\\n",
       "\t  10252                  & 154                     & 146                     & 133                     & Aston Villa             & 335                    \\\\\n",
       "\t  10260                  & 124                     & 133                     & 163                     & Manchester United       & 582                    \\\\\n",
       "\t  10261                  & 152                     & 147                     & 131                     & Newcastle United        & 324                    \\\\\n",
       "\t  10264                  & 145                     & 166                     & 120                     & SC Braga                & 398                    \\\\\n",
       "\t  10265                  & 119                     & 101                     & 157                     & Wisla Kraków            & 332                    \\\\\n",
       "\t  10267                  & 116                     & 146                     & 147                     & Valencia CF             & 484                    \\\\\n",
       "\t  10268                  & 151                     & 164                     & 158                     & Elche CF                &  65                    \\\\\n",
       "\t  10269                  & 155                     & 172                     & 117                     & VfB Stuttgart           & 415                    \\\\\n",
       "\t  10278                  & 154                     & 178                     & 160                     & Hércules Club de Fútbol &  36                    \\\\\n",
       "\t  10281                  & 148                     & 147                     & 134                     & Real Valladolid         & 170                    \\\\\n",
       "\t 108893                  & 156                     & 138                     & 158                     & AC Arles-Avignon        &  21                    \\\\\n",
       "\t 158085                  & 170                     & 160                     & 113                     & FC Arouca               & 101                    \\\\\n",
       "\t 208931                  & 190                     & 160                     & 115                     & Carpi                   &  37                    \\\\\n",
       "\t 274581                  & 150                     & 150                     & 140                     & Royal Excel Mouscron    &  71                    \\\\\n",
       "\\end{tabular}\n"
      ],
      "text/markdown": [
       "\n",
       "team_api_id | buildUpPlay | chanceCreation | defence | team_long_name | goals | \n",
       "|---|---|---|---|---|---|---|---|---|---|---|---|---|---|---|---|---|---|---|---|---|---|---|---|---|---|---|---|---|---|---|---|---|---|---|---|---|---|---|---|---|---|---|---|---|---|---|---|---|---|---|---|---|---|---|---|---|---|---|---|---|\n",
       "| 1601                     | 133                      | 176                      | 136                      | Ruch Chorzów             | 280                      | \n",
       "| 1773                     | 153                      | 157                      | 137                      | Oud-Heverlee Leuven      | 126                      | \n",
       "| 1957                     | 158                      | 152                      | 162                      | Jagiellonia Bialystok    | 287                      | \n",
       "| 2033                     | 147                      | 134                      | 105                      | S.C. Olhanense           | 138                      | \n",
       "| 2182                     | 147                      | 196                      | 153                      | Lech Poznan              | 372                      | \n",
       "| 2183                     |  NA                      | 131                      | 139                      | P. Warszawa              | 184                      | \n",
       "| 2186                     | 125                      | 165                      | 157                      | Cracovia                 | 235                      | \n",
       "| 4087                     | 149                      | 164                      | 140                      | Évian Thonon Gaillard FC | 180                      | \n",
       "| 4170                     |  NA                      | 154                      | 155                      | US Boulogne Cote D'Opale |  31                      | \n",
       "| 6269                     | 179                      | 168                      | 138                      | Novara                   |  34                      | \n",
       "| 6351                     |  NA                      | 160                      | 155                      | KAS Eupen                |  28                      | \n",
       "| 6391                     | 153                      | 163                      | 141                      | GFC Ajaccio              |  37                      | \n",
       "| 6403                     | 142                      | 169                      | 139                      | FC Paços de Ferreira     | 292                      | \n",
       "| 6413                     | 136                      | 165                      | 181                      | PEC Zwolle               | 204                      | \n",
       "| 6421                     |  NA                      | 165                      |  90                      | Leixões SC               |  55                      | \n",
       "| 6433                     | 160                      | 131                      | 141                      | Go Ahead Eagles          |  74                      | \n",
       "| 6493                     |  NA                      | 148                      | 138                      | AC Bellinzona            | 128                      | \n",
       "| 6547                     | 147                      | 146                      | 121                      | FC Penafiel              |  29                      | \n",
       "| 6631                     | 134                      | 176                      | 164                      | FC Dordrecht             |  24                      | \n",
       "| 7730                     | 141                      | 164                      | 145                      | FC Lausanne-Sports       |  99                      | \n",
       "| 7788                     | 136                      | 134                      | 138                      | SC Cambuur               | 119                      | \n",
       "| 7794                     | 174                      | 156                      | 147                      | SC Bastia                | 165                      | \n",
       "| 7819                     | 157                      | 155                      | 136                      | SM Caen                  | 220                      | \n",
       "| 7841                     | 157                      | 177                      | 153                      | Rio Ave FC               | 248                      | \n",
       "| 7842                     | 167                      | 139                      | 150                      | Estoril Praia            | 167                      | \n",
       "| 7844                     | 131                      | 173                      | 141                      | Vitória Guimarães        | 300                      | \n",
       "| 7869                     | 141                      | 171                      | 129                      | Córdoba CF               |  22                      | \n",
       "| 7878                     | 166                      | 175                      | 155                      | Granada CF               | 179                      | \n",
       "| 7943                     | 182                      | 169                      | 138                      | Sassuolo                 | 141                      | \n",
       "| 7955                     |  NA                      | 121                      | 116                      | Neuchâtel Xamax          | 171                      | \n",
       "| ... | ... | ... | ... | ... | ... | \n",
       "|  10211                  |  NA                     | 165                     | 150                     | SC Beira Mar            |  93                     | \n",
       "|  10212                  | 176                     | 186                     | 133                     | CS Marítimo             | 316                     | \n",
       "|  10214                  | 167                     | 150                     | 141                     | CD Nacional             | 332                     | \n",
       "|  10215                  | 150                     | 166                     | 138                     | Académica de Coimbra    | 240                     | \n",
       "|  10217                  | 162                     | 145                     | 142                     | ADO Den Haag            | 366                     | \n",
       "|  10218                  | 163                     | 136                     | 106                     | Excelsior               | 154                     | \n",
       "|  10219                  | 142                     | 133                     |  99                     | RKC Waalwijk            | 153                     | \n",
       "|  10228                  | 150                     | 152                     | 138                     | SC Heerenveen           | 470                     | \n",
       "|  10229                  | 154                     | 173                     | 166                     | AZ                      | 492                     | \n",
       "|  10233                  | 184                     | 134                     | 127                     | Genoa                   | 392                     | \n",
       "|  10235                  | 131                     | 146                     | 129                     | Feyenoord               | 489                     | \n",
       "|  10238                  | 149                     | 158                     | 132                     | Vitória Setúbal         | 238                     | \n",
       "|  10242                  | 148                     | 147                     | 137                     | ES Troyes AC            |  71                     | \n",
       "|  10243                  | 157                     | 151                     | 146                     | FC Zürich               | 468                     | \n",
       "|  10249                  | 162                     | 142                     | 157                     | Montpellier Hérault SC  | 344                     | \n",
       "|  10251                  | 148                     | 139                     | 124                     | Hibernian               | 259                     | \n",
       "|  10252                  | 154                     | 146                     | 133                     | Aston Villa             | 335                     | \n",
       "|  10260                  | 124                     | 133                     | 163                     | Manchester United       | 582                     | \n",
       "|  10261                  | 152                     | 147                     | 131                     | Newcastle United        | 324                     | \n",
       "|  10264                  | 145                     | 166                     | 120                     | SC Braga                | 398                     | \n",
       "|  10265                  | 119                     | 101                     | 157                     | Wisla Kraków            | 332                     | \n",
       "|  10267                  | 116                     | 146                     | 147                     | Valencia CF             | 484                     | \n",
       "|  10268                  | 151                     | 164                     | 158                     | Elche CF                |  65                     | \n",
       "|  10269                  | 155                     | 172                     | 117                     | VfB Stuttgart           | 415                     | \n",
       "|  10278                  | 154                     | 178                     | 160                     | Hércules Club de Fútbol |  36                     | \n",
       "|  10281                  | 148                     | 147                     | 134                     | Real Valladolid         | 170                     | \n",
       "| 108893                  | 156                     | 138                     | 158                     | AC Arles-Avignon        |  21                     | \n",
       "| 158085                  | 170                     | 160                     | 113                     | FC Arouca               | 101                     | \n",
       "| 208931                  | 190                     | 160                     | 115                     | Carpi                   |  37                     | \n",
       "| 274581                  | 150                     | 150                     | 140                     | Royal Excel Mouscron    |  71                     | \n",
       "\n",
       "\n"
      ],
      "text/plain": [
       "    team_api_id buildUpPlay chanceCreation defence team_long_name          \n",
       "1   1601        133         176            136     Ruch Chorzów            \n",
       "2   1773        153         157            137     Oud-Heverlee Leuven     \n",
       "3   1957        158         152            162     Jagiellonia Bialystok   \n",
       "4   2033        147         134            105     S.C. Olhanense          \n",
       "5   2182        147         196            153     Lech Poznan             \n",
       "6   2183         NA         131            139     P. Warszawa             \n",
       "7   2186        125         165            157     Cracovia                \n",
       "8   4087        149         164            140     Évian Thonon Gaillard FC\n",
       "9   4170         NA         154            155     US Boulogne Cote D'Opale\n",
       "10  6269        179         168            138     Novara                  \n",
       "11  6351         NA         160            155     KAS Eupen               \n",
       "12  6391        153         163            141     GFC Ajaccio             \n",
       "13  6403        142         169            139     FC Paços de Ferreira    \n",
       "14  6413        136         165            181     PEC Zwolle              \n",
       "15  6421         NA         165             90     Leixões SC              \n",
       "16  6433        160         131            141     Go Ahead Eagles         \n",
       "17  6493         NA         148            138     AC Bellinzona           \n",
       "18  6547        147         146            121     FC Penafiel             \n",
       "19  6631        134         176            164     FC Dordrecht            \n",
       "20  7730        141         164            145     FC Lausanne-Sports      \n",
       "21  7788        136         134            138     SC Cambuur              \n",
       "22  7794        174         156            147     SC Bastia               \n",
       "23  7819        157         155            136     SM Caen                 \n",
       "24  7841        157         177            153     Rio Ave FC              \n",
       "25  7842        167         139            150     Estoril Praia           \n",
       "26  7844        131         173            141     Vitória Guimarães       \n",
       "27  7869        141         171            129     Córdoba CF              \n",
       "28  7878        166         175            155     Granada CF              \n",
       "29  7943        182         169            138     Sassuolo                \n",
       "30  7955         NA         121            116     Neuchâtel Xamax         \n",
       "... ...         ...         ...            ...     ...                     \n",
       "259  10211       NA         165            150     SC Beira Mar            \n",
       "260  10212      176         186            133     CS Marítimo             \n",
       "261  10214      167         150            141     CD Nacional             \n",
       "262  10215      150         166            138     Académica de Coimbra    \n",
       "263  10217      162         145            142     ADO Den Haag            \n",
       "264  10218      163         136            106     Excelsior               \n",
       "265  10219      142         133             99     RKC Waalwijk            \n",
       "266  10228      150         152            138     SC Heerenveen           \n",
       "267  10229      154         173            166     AZ                      \n",
       "268  10233      184         134            127     Genoa                   \n",
       "269  10235      131         146            129     Feyenoord               \n",
       "270  10238      149         158            132     Vitória Setúbal         \n",
       "271  10242      148         147            137     ES Troyes AC            \n",
       "272  10243      157         151            146     FC Zürich               \n",
       "273  10249      162         142            157     Montpellier Hérault SC  \n",
       "274  10251      148         139            124     Hibernian               \n",
       "275  10252      154         146            133     Aston Villa             \n",
       "276  10260      124         133            163     Manchester United       \n",
       "277  10261      152         147            131     Newcastle United        \n",
       "278  10264      145         166            120     SC Braga                \n",
       "279  10265      119         101            157     Wisla Kraków            \n",
       "280  10267      116         146            147     Valencia CF             \n",
       "281  10268      151         164            158     Elche CF                \n",
       "282  10269      155         172            117     VfB Stuttgart           \n",
       "283  10278      154         178            160     Hércules Club de Fútbol \n",
       "284  10281      148         147            134     Real Valladolid         \n",
       "285 108893      156         138            158     AC Arles-Avignon        \n",
       "286 158085      170         160            113     FC Arouca               \n",
       "287 208931      190         160            115     Carpi                   \n",
       "288 274581      150         150            140     Royal Excel Mouscron    \n",
       "    goals\n",
       "1   280  \n",
       "2   126  \n",
       "3   287  \n",
       "4   138  \n",
       "5   372  \n",
       "6   184  \n",
       "7   235  \n",
       "8   180  \n",
       "9    31  \n",
       "10   34  \n",
       "11   28  \n",
       "12   37  \n",
       "13  292  \n",
       "14  204  \n",
       "15   55  \n",
       "16   74  \n",
       "17  128  \n",
       "18   29  \n",
       "19   24  \n",
       "20   99  \n",
       "21  119  \n",
       "22  165  \n",
       "23  220  \n",
       "24  248  \n",
       "25  167  \n",
       "26  300  \n",
       "27   22  \n",
       "28  179  \n",
       "29  141  \n",
       "30  171  \n",
       "... ...  \n",
       "259  93  \n",
       "260 316  \n",
       "261 332  \n",
       "262 240  \n",
       "263 366  \n",
       "264 154  \n",
       "265 153  \n",
       "266 470  \n",
       "267 492  \n",
       "268 392  \n",
       "269 489  \n",
       "270 238  \n",
       "271  71  \n",
       "272 468  \n",
       "273 344  \n",
       "274 259  \n",
       "275 335  \n",
       "276 582  \n",
       "277 324  \n",
       "278 398  \n",
       "279 332  \n",
       "280 484  \n",
       "281  65  \n",
       "282 415  \n",
       "283  36  \n",
       "284 170  \n",
       "285  21  \n",
       "286 101  \n",
       "287  37  \n",
       "288  71  "
      ]
     },
     "metadata": {},
     "output_type": "display_data"
    }
   ],
   "source": [
    "team"
   ]
  },
  {
   "cell_type": "markdown",
   "metadata": {},
   "source": [
    "writing teams table to csv file"
   ]
  },
  {
   "cell_type": "code",
   "execution_count": 107,
   "metadata": {
    "collapsed": true
   },
   "outputs": [],
   "source": [
    "write.csv(team, file = \"teams.csv\")"
   ]
  },
  {
   "cell_type": "code",
   "execution_count": null,
   "metadata": {
    "collapsed": true
   },
   "outputs": [],
   "source": []
  }
 ],
 "metadata": {
  "anaconda-cloud": {},
  "kernelspec": {
   "display_name": "R",
   "language": "R",
   "name": "ir"
  },
  "language_info": {
   "codemirror_mode": "r",
   "file_extension": ".r",
   "mimetype": "text/x-r-source",
   "name": "R",
   "pygments_lexer": "r",
   "version": "3.3.2"
  }
 },
 "nbformat": 4,
 "nbformat_minor": 1
}
